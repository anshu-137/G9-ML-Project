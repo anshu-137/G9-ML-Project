{
 "cells": [
  {
   "cell_type": "code",
   "execution_count": 1,
   "id": "aa285b9d",
   "metadata": {},
   "outputs": [],
   "source": [
    "import numpy as np\n",
    "import pandas as pd\n",
    "import matplotlib.pyplot as plt\n",
    "import seaborn as sns\n",
    "from sklearn.model_selection import cross_val_score"
   ]
  },
  {
   "cell_type": "code",
   "execution_count": 2,
   "id": "af05b146",
   "metadata": {},
   "outputs": [],
   "source": [
    "df=pd.read_csv(\"C:/Users/dell/Downloads/archive/fetal_health.csv\")"
   ]
  },
  {
   "cell_type": "code",
   "execution_count": 3,
   "id": "aae51e98",
   "metadata": {},
   "outputs": [
    {
     "data": {
      "text/html": [
       "<div>\n",
       "<style scoped>\n",
       "    .dataframe tbody tr th:only-of-type {\n",
       "        vertical-align: middle;\n",
       "    }\n",
       "\n",
       "    .dataframe tbody tr th {\n",
       "        vertical-align: top;\n",
       "    }\n",
       "\n",
       "    .dataframe thead th {\n",
       "        text-align: right;\n",
       "    }\n",
       "</style>\n",
       "<table border=\"1\" class=\"dataframe\">\n",
       "  <thead>\n",
       "    <tr style=\"text-align: right;\">\n",
       "      <th></th>\n",
       "      <th>baseline value</th>\n",
       "      <th>accelerations</th>\n",
       "      <th>fetal_movement</th>\n",
       "      <th>uterine_contractions</th>\n",
       "      <th>light_decelerations</th>\n",
       "      <th>severe_decelerations</th>\n",
       "      <th>prolongued_decelerations</th>\n",
       "      <th>abnormal_short_term_variability</th>\n",
       "      <th>mean_value_of_short_term_variability</th>\n",
       "      <th>percentage_of_time_with_abnormal_long_term_variability</th>\n",
       "      <th>...</th>\n",
       "      <th>histogram_min</th>\n",
       "      <th>histogram_max</th>\n",
       "      <th>histogram_number_of_peaks</th>\n",
       "      <th>histogram_number_of_zeroes</th>\n",
       "      <th>histogram_mode</th>\n",
       "      <th>histogram_mean</th>\n",
       "      <th>histogram_median</th>\n",
       "      <th>histogram_variance</th>\n",
       "      <th>histogram_tendency</th>\n",
       "      <th>fetal_health</th>\n",
       "    </tr>\n",
       "  </thead>\n",
       "  <tbody>\n",
       "    <tr>\n",
       "      <th>0</th>\n",
       "      <td>120.0</td>\n",
       "      <td>0.000</td>\n",
       "      <td>0.0</td>\n",
       "      <td>0.000</td>\n",
       "      <td>0.000</td>\n",
       "      <td>0.0</td>\n",
       "      <td>0.0</td>\n",
       "      <td>73.0</td>\n",
       "      <td>0.5</td>\n",
       "      <td>43.0</td>\n",
       "      <td>...</td>\n",
       "      <td>62.0</td>\n",
       "      <td>126.0</td>\n",
       "      <td>2.0</td>\n",
       "      <td>0.0</td>\n",
       "      <td>120.0</td>\n",
       "      <td>137.0</td>\n",
       "      <td>121.0</td>\n",
       "      <td>73.0</td>\n",
       "      <td>1.0</td>\n",
       "      <td>2.0</td>\n",
       "    </tr>\n",
       "    <tr>\n",
       "      <th>1</th>\n",
       "      <td>132.0</td>\n",
       "      <td>0.006</td>\n",
       "      <td>0.0</td>\n",
       "      <td>0.006</td>\n",
       "      <td>0.003</td>\n",
       "      <td>0.0</td>\n",
       "      <td>0.0</td>\n",
       "      <td>17.0</td>\n",
       "      <td>2.1</td>\n",
       "      <td>0.0</td>\n",
       "      <td>...</td>\n",
       "      <td>68.0</td>\n",
       "      <td>198.0</td>\n",
       "      <td>6.0</td>\n",
       "      <td>1.0</td>\n",
       "      <td>141.0</td>\n",
       "      <td>136.0</td>\n",
       "      <td>140.0</td>\n",
       "      <td>12.0</td>\n",
       "      <td>0.0</td>\n",
       "      <td>1.0</td>\n",
       "    </tr>\n",
       "    <tr>\n",
       "      <th>2</th>\n",
       "      <td>133.0</td>\n",
       "      <td>0.003</td>\n",
       "      <td>0.0</td>\n",
       "      <td>0.008</td>\n",
       "      <td>0.003</td>\n",
       "      <td>0.0</td>\n",
       "      <td>0.0</td>\n",
       "      <td>16.0</td>\n",
       "      <td>2.1</td>\n",
       "      <td>0.0</td>\n",
       "      <td>...</td>\n",
       "      <td>68.0</td>\n",
       "      <td>198.0</td>\n",
       "      <td>5.0</td>\n",
       "      <td>1.0</td>\n",
       "      <td>141.0</td>\n",
       "      <td>135.0</td>\n",
       "      <td>138.0</td>\n",
       "      <td>13.0</td>\n",
       "      <td>0.0</td>\n",
       "      <td>1.0</td>\n",
       "    </tr>\n",
       "    <tr>\n",
       "      <th>3</th>\n",
       "      <td>134.0</td>\n",
       "      <td>0.003</td>\n",
       "      <td>0.0</td>\n",
       "      <td>0.008</td>\n",
       "      <td>0.003</td>\n",
       "      <td>0.0</td>\n",
       "      <td>0.0</td>\n",
       "      <td>16.0</td>\n",
       "      <td>2.4</td>\n",
       "      <td>0.0</td>\n",
       "      <td>...</td>\n",
       "      <td>53.0</td>\n",
       "      <td>170.0</td>\n",
       "      <td>11.0</td>\n",
       "      <td>0.0</td>\n",
       "      <td>137.0</td>\n",
       "      <td>134.0</td>\n",
       "      <td>137.0</td>\n",
       "      <td>13.0</td>\n",
       "      <td>1.0</td>\n",
       "      <td>1.0</td>\n",
       "    </tr>\n",
       "    <tr>\n",
       "      <th>4</th>\n",
       "      <td>132.0</td>\n",
       "      <td>0.007</td>\n",
       "      <td>0.0</td>\n",
       "      <td>0.008</td>\n",
       "      <td>0.000</td>\n",
       "      <td>0.0</td>\n",
       "      <td>0.0</td>\n",
       "      <td>16.0</td>\n",
       "      <td>2.4</td>\n",
       "      <td>0.0</td>\n",
       "      <td>...</td>\n",
       "      <td>53.0</td>\n",
       "      <td>170.0</td>\n",
       "      <td>9.0</td>\n",
       "      <td>0.0</td>\n",
       "      <td>137.0</td>\n",
       "      <td>136.0</td>\n",
       "      <td>138.0</td>\n",
       "      <td>11.0</td>\n",
       "      <td>1.0</td>\n",
       "      <td>1.0</td>\n",
       "    </tr>\n",
       "  </tbody>\n",
       "</table>\n",
       "<p>5 rows × 22 columns</p>\n",
       "</div>"
      ],
      "text/plain": [
       "   baseline value  accelerations  fetal_movement  uterine_contractions  \\\n",
       "0           120.0          0.000             0.0                 0.000   \n",
       "1           132.0          0.006             0.0                 0.006   \n",
       "2           133.0          0.003             0.0                 0.008   \n",
       "3           134.0          0.003             0.0                 0.008   \n",
       "4           132.0          0.007             0.0                 0.008   \n",
       "\n",
       "   light_decelerations  severe_decelerations  prolongued_decelerations  \\\n",
       "0                0.000                   0.0                       0.0   \n",
       "1                0.003                   0.0                       0.0   \n",
       "2                0.003                   0.0                       0.0   \n",
       "3                0.003                   0.0                       0.0   \n",
       "4                0.000                   0.0                       0.0   \n",
       "\n",
       "   abnormal_short_term_variability  mean_value_of_short_term_variability  \\\n",
       "0                             73.0                                   0.5   \n",
       "1                             17.0                                   2.1   \n",
       "2                             16.0                                   2.1   \n",
       "3                             16.0                                   2.4   \n",
       "4                             16.0                                   2.4   \n",
       "\n",
       "   percentage_of_time_with_abnormal_long_term_variability  ...  histogram_min  \\\n",
       "0                                               43.0       ...           62.0   \n",
       "1                                                0.0       ...           68.0   \n",
       "2                                                0.0       ...           68.0   \n",
       "3                                                0.0       ...           53.0   \n",
       "4                                                0.0       ...           53.0   \n",
       "\n",
       "   histogram_max  histogram_number_of_peaks  histogram_number_of_zeroes  \\\n",
       "0          126.0                        2.0                         0.0   \n",
       "1          198.0                        6.0                         1.0   \n",
       "2          198.0                        5.0                         1.0   \n",
       "3          170.0                       11.0                         0.0   \n",
       "4          170.0                        9.0                         0.0   \n",
       "\n",
       "   histogram_mode  histogram_mean  histogram_median  histogram_variance  \\\n",
       "0           120.0           137.0             121.0                73.0   \n",
       "1           141.0           136.0             140.0                12.0   \n",
       "2           141.0           135.0             138.0                13.0   \n",
       "3           137.0           134.0             137.0                13.0   \n",
       "4           137.0           136.0             138.0                11.0   \n",
       "\n",
       "   histogram_tendency  fetal_health  \n",
       "0                 1.0           2.0  \n",
       "1                 0.0           1.0  \n",
       "2                 0.0           1.0  \n",
       "3                 1.0           1.0  \n",
       "4                 1.0           1.0  \n",
       "\n",
       "[5 rows x 22 columns]"
      ]
     },
     "execution_count": 3,
     "metadata": {},
     "output_type": "execute_result"
    }
   ],
   "source": [
    "df.head()"
   ]
  },
  {
   "cell_type": "code",
   "execution_count": 4,
   "id": "0b75338e",
   "metadata": {
    "scrolled": true
   },
   "outputs": [
    {
     "data": {
      "text/html": [
       "<div>\n",
       "<style scoped>\n",
       "    .dataframe tbody tr th:only-of-type {\n",
       "        vertical-align: middle;\n",
       "    }\n",
       "\n",
       "    .dataframe tbody tr th {\n",
       "        vertical-align: top;\n",
       "    }\n",
       "\n",
       "    .dataframe thead th {\n",
       "        text-align: right;\n",
       "    }\n",
       "</style>\n",
       "<table border=\"1\" class=\"dataframe\">\n",
       "  <thead>\n",
       "    <tr style=\"text-align: right;\">\n",
       "      <th></th>\n",
       "      <th>baseline value</th>\n",
       "      <th>accelerations</th>\n",
       "      <th>fetal_movement</th>\n",
       "      <th>uterine_contractions</th>\n",
       "      <th>light_decelerations</th>\n",
       "      <th>severe_decelerations</th>\n",
       "      <th>prolongued_decelerations</th>\n",
       "      <th>abnormal_short_term_variability</th>\n",
       "      <th>mean_value_of_short_term_variability</th>\n",
       "      <th>percentage_of_time_with_abnormal_long_term_variability</th>\n",
       "      <th>...</th>\n",
       "      <th>histogram_min</th>\n",
       "      <th>histogram_max</th>\n",
       "      <th>histogram_number_of_peaks</th>\n",
       "      <th>histogram_number_of_zeroes</th>\n",
       "      <th>histogram_mode</th>\n",
       "      <th>histogram_mean</th>\n",
       "      <th>histogram_median</th>\n",
       "      <th>histogram_variance</th>\n",
       "      <th>histogram_tendency</th>\n",
       "      <th>fetal_health</th>\n",
       "    </tr>\n",
       "  </thead>\n",
       "  <tbody>\n",
       "    <tr>\n",
       "      <th>2121</th>\n",
       "      <td>140.0</td>\n",
       "      <td>0.000</td>\n",
       "      <td>0.000</td>\n",
       "      <td>0.007</td>\n",
       "      <td>0.0</td>\n",
       "      <td>0.0</td>\n",
       "      <td>0.0</td>\n",
       "      <td>79.0</td>\n",
       "      <td>0.2</td>\n",
       "      <td>25.0</td>\n",
       "      <td>...</td>\n",
       "      <td>137.0</td>\n",
       "      <td>177.0</td>\n",
       "      <td>4.0</td>\n",
       "      <td>0.0</td>\n",
       "      <td>153.0</td>\n",
       "      <td>150.0</td>\n",
       "      <td>152.0</td>\n",
       "      <td>2.0</td>\n",
       "      <td>0.0</td>\n",
       "      <td>2.0</td>\n",
       "    </tr>\n",
       "    <tr>\n",
       "      <th>2122</th>\n",
       "      <td>140.0</td>\n",
       "      <td>0.001</td>\n",
       "      <td>0.000</td>\n",
       "      <td>0.007</td>\n",
       "      <td>0.0</td>\n",
       "      <td>0.0</td>\n",
       "      <td>0.0</td>\n",
       "      <td>78.0</td>\n",
       "      <td>0.4</td>\n",
       "      <td>22.0</td>\n",
       "      <td>...</td>\n",
       "      <td>103.0</td>\n",
       "      <td>169.0</td>\n",
       "      <td>6.0</td>\n",
       "      <td>0.0</td>\n",
       "      <td>152.0</td>\n",
       "      <td>148.0</td>\n",
       "      <td>151.0</td>\n",
       "      <td>3.0</td>\n",
       "      <td>1.0</td>\n",
       "      <td>2.0</td>\n",
       "    </tr>\n",
       "    <tr>\n",
       "      <th>2123</th>\n",
       "      <td>140.0</td>\n",
       "      <td>0.001</td>\n",
       "      <td>0.000</td>\n",
       "      <td>0.007</td>\n",
       "      <td>0.0</td>\n",
       "      <td>0.0</td>\n",
       "      <td>0.0</td>\n",
       "      <td>79.0</td>\n",
       "      <td>0.4</td>\n",
       "      <td>20.0</td>\n",
       "      <td>...</td>\n",
       "      <td>103.0</td>\n",
       "      <td>170.0</td>\n",
       "      <td>5.0</td>\n",
       "      <td>0.0</td>\n",
       "      <td>153.0</td>\n",
       "      <td>148.0</td>\n",
       "      <td>152.0</td>\n",
       "      <td>4.0</td>\n",
       "      <td>1.0</td>\n",
       "      <td>2.0</td>\n",
       "    </tr>\n",
       "    <tr>\n",
       "      <th>2124</th>\n",
       "      <td>140.0</td>\n",
       "      <td>0.001</td>\n",
       "      <td>0.000</td>\n",
       "      <td>0.006</td>\n",
       "      <td>0.0</td>\n",
       "      <td>0.0</td>\n",
       "      <td>0.0</td>\n",
       "      <td>78.0</td>\n",
       "      <td>0.4</td>\n",
       "      <td>27.0</td>\n",
       "      <td>...</td>\n",
       "      <td>103.0</td>\n",
       "      <td>169.0</td>\n",
       "      <td>6.0</td>\n",
       "      <td>0.0</td>\n",
       "      <td>152.0</td>\n",
       "      <td>147.0</td>\n",
       "      <td>151.0</td>\n",
       "      <td>4.0</td>\n",
       "      <td>1.0</td>\n",
       "      <td>2.0</td>\n",
       "    </tr>\n",
       "    <tr>\n",
       "      <th>2125</th>\n",
       "      <td>142.0</td>\n",
       "      <td>0.002</td>\n",
       "      <td>0.002</td>\n",
       "      <td>0.008</td>\n",
       "      <td>0.0</td>\n",
       "      <td>0.0</td>\n",
       "      <td>0.0</td>\n",
       "      <td>74.0</td>\n",
       "      <td>0.4</td>\n",
       "      <td>36.0</td>\n",
       "      <td>...</td>\n",
       "      <td>117.0</td>\n",
       "      <td>159.0</td>\n",
       "      <td>2.0</td>\n",
       "      <td>1.0</td>\n",
       "      <td>145.0</td>\n",
       "      <td>143.0</td>\n",
       "      <td>145.0</td>\n",
       "      <td>1.0</td>\n",
       "      <td>0.0</td>\n",
       "      <td>1.0</td>\n",
       "    </tr>\n",
       "  </tbody>\n",
       "</table>\n",
       "<p>5 rows × 22 columns</p>\n",
       "</div>"
      ],
      "text/plain": [
       "      baseline value  accelerations  fetal_movement  uterine_contractions  \\\n",
       "2121           140.0          0.000           0.000                 0.007   \n",
       "2122           140.0          0.001           0.000                 0.007   \n",
       "2123           140.0          0.001           0.000                 0.007   \n",
       "2124           140.0          0.001           0.000                 0.006   \n",
       "2125           142.0          0.002           0.002                 0.008   \n",
       "\n",
       "      light_decelerations  severe_decelerations  prolongued_decelerations  \\\n",
       "2121                  0.0                   0.0                       0.0   \n",
       "2122                  0.0                   0.0                       0.0   \n",
       "2123                  0.0                   0.0                       0.0   \n",
       "2124                  0.0                   0.0                       0.0   \n",
       "2125                  0.0                   0.0                       0.0   \n",
       "\n",
       "      abnormal_short_term_variability  mean_value_of_short_term_variability  \\\n",
       "2121                             79.0                                   0.2   \n",
       "2122                             78.0                                   0.4   \n",
       "2123                             79.0                                   0.4   \n",
       "2124                             78.0                                   0.4   \n",
       "2125                             74.0                                   0.4   \n",
       "\n",
       "      percentage_of_time_with_abnormal_long_term_variability  ...  \\\n",
       "2121                                               25.0       ...   \n",
       "2122                                               22.0       ...   \n",
       "2123                                               20.0       ...   \n",
       "2124                                               27.0       ...   \n",
       "2125                                               36.0       ...   \n",
       "\n",
       "      histogram_min  histogram_max  histogram_number_of_peaks  \\\n",
       "2121          137.0          177.0                        4.0   \n",
       "2122          103.0          169.0                        6.0   \n",
       "2123          103.0          170.0                        5.0   \n",
       "2124          103.0          169.0                        6.0   \n",
       "2125          117.0          159.0                        2.0   \n",
       "\n",
       "      histogram_number_of_zeroes  histogram_mode  histogram_mean  \\\n",
       "2121                         0.0           153.0           150.0   \n",
       "2122                         0.0           152.0           148.0   \n",
       "2123                         0.0           153.0           148.0   \n",
       "2124                         0.0           152.0           147.0   \n",
       "2125                         1.0           145.0           143.0   \n",
       "\n",
       "      histogram_median  histogram_variance  histogram_tendency  fetal_health  \n",
       "2121             152.0                 2.0                 0.0           2.0  \n",
       "2122             151.0                 3.0                 1.0           2.0  \n",
       "2123             152.0                 4.0                 1.0           2.0  \n",
       "2124             151.0                 4.0                 1.0           2.0  \n",
       "2125             145.0                 1.0                 0.0           1.0  \n",
       "\n",
       "[5 rows x 22 columns]"
      ]
     },
     "execution_count": 4,
     "metadata": {},
     "output_type": "execute_result"
    }
   ],
   "source": [
    "df.tail()"
   ]
  },
  {
   "cell_type": "code",
   "execution_count": 5,
   "id": "461f6deb",
   "metadata": {},
   "outputs": [
    {
     "data": {
      "text/plain": [
       "46772"
      ]
     },
     "execution_count": 5,
     "metadata": {},
     "output_type": "execute_result"
    }
   ],
   "source": [
    "df.size"
   ]
  },
  {
   "cell_type": "code",
   "execution_count": 6,
   "id": "b069c5b0",
   "metadata": {},
   "outputs": [
    {
     "data": {
      "text/plain": [
       "(2126, 22)"
      ]
     },
     "execution_count": 6,
     "metadata": {},
     "output_type": "execute_result"
    }
   ],
   "source": [
    "df.shape"
   ]
  },
  {
   "cell_type": "code",
   "execution_count": 7,
   "id": "51f68352",
   "metadata": {},
   "outputs": [
    {
     "data": {
      "text/html": [
       "<div>\n",
       "<style scoped>\n",
       "    .dataframe tbody tr th:only-of-type {\n",
       "        vertical-align: middle;\n",
       "    }\n",
       "\n",
       "    .dataframe tbody tr th {\n",
       "        vertical-align: top;\n",
       "    }\n",
       "\n",
       "    .dataframe thead th {\n",
       "        text-align: right;\n",
       "    }\n",
       "</style>\n",
       "<table border=\"1\" class=\"dataframe\">\n",
       "  <thead>\n",
       "    <tr style=\"text-align: right;\">\n",
       "      <th></th>\n",
       "      <th>baseline value</th>\n",
       "      <th>accelerations</th>\n",
       "      <th>fetal_movement</th>\n",
       "      <th>uterine_contractions</th>\n",
       "      <th>light_decelerations</th>\n",
       "      <th>severe_decelerations</th>\n",
       "      <th>prolongued_decelerations</th>\n",
       "      <th>abnormal_short_term_variability</th>\n",
       "      <th>mean_value_of_short_term_variability</th>\n",
       "      <th>percentage_of_time_with_abnormal_long_term_variability</th>\n",
       "      <th>...</th>\n",
       "      <th>histogram_min</th>\n",
       "      <th>histogram_max</th>\n",
       "      <th>histogram_number_of_peaks</th>\n",
       "      <th>histogram_number_of_zeroes</th>\n",
       "      <th>histogram_mode</th>\n",
       "      <th>histogram_mean</th>\n",
       "      <th>histogram_median</th>\n",
       "      <th>histogram_variance</th>\n",
       "      <th>histogram_tendency</th>\n",
       "      <th>fetal_health</th>\n",
       "    </tr>\n",
       "  </thead>\n",
       "  <tbody>\n",
       "    <tr>\n",
       "      <th>count</th>\n",
       "      <td>2126.000000</td>\n",
       "      <td>2126.000000</td>\n",
       "      <td>2126.000000</td>\n",
       "      <td>2126.000000</td>\n",
       "      <td>2126.000000</td>\n",
       "      <td>2126.000000</td>\n",
       "      <td>2126.000000</td>\n",
       "      <td>2126.000000</td>\n",
       "      <td>2126.000000</td>\n",
       "      <td>2126.00000</td>\n",
       "      <td>...</td>\n",
       "      <td>2126.000000</td>\n",
       "      <td>2126.000000</td>\n",
       "      <td>2126.000000</td>\n",
       "      <td>2126.000000</td>\n",
       "      <td>2126.000000</td>\n",
       "      <td>2126.000000</td>\n",
       "      <td>2126.000000</td>\n",
       "      <td>2126.000000</td>\n",
       "      <td>2126.000000</td>\n",
       "      <td>2126.000000</td>\n",
       "    </tr>\n",
       "    <tr>\n",
       "      <th>mean</th>\n",
       "      <td>133.303857</td>\n",
       "      <td>0.003178</td>\n",
       "      <td>0.009481</td>\n",
       "      <td>0.004366</td>\n",
       "      <td>0.001889</td>\n",
       "      <td>0.000003</td>\n",
       "      <td>0.000159</td>\n",
       "      <td>46.990122</td>\n",
       "      <td>1.332785</td>\n",
       "      <td>9.84666</td>\n",
       "      <td>...</td>\n",
       "      <td>93.579492</td>\n",
       "      <td>164.025400</td>\n",
       "      <td>4.068203</td>\n",
       "      <td>0.323612</td>\n",
       "      <td>137.452023</td>\n",
       "      <td>134.610536</td>\n",
       "      <td>138.090310</td>\n",
       "      <td>18.808090</td>\n",
       "      <td>0.320320</td>\n",
       "      <td>1.304327</td>\n",
       "    </tr>\n",
       "    <tr>\n",
       "      <th>std</th>\n",
       "      <td>9.840844</td>\n",
       "      <td>0.003866</td>\n",
       "      <td>0.046666</td>\n",
       "      <td>0.002946</td>\n",
       "      <td>0.002960</td>\n",
       "      <td>0.000057</td>\n",
       "      <td>0.000590</td>\n",
       "      <td>17.192814</td>\n",
       "      <td>0.883241</td>\n",
       "      <td>18.39688</td>\n",
       "      <td>...</td>\n",
       "      <td>29.560212</td>\n",
       "      <td>17.944183</td>\n",
       "      <td>2.949386</td>\n",
       "      <td>0.706059</td>\n",
       "      <td>16.381289</td>\n",
       "      <td>15.593596</td>\n",
       "      <td>14.466589</td>\n",
       "      <td>28.977636</td>\n",
       "      <td>0.610829</td>\n",
       "      <td>0.614377</td>\n",
       "    </tr>\n",
       "    <tr>\n",
       "      <th>min</th>\n",
       "      <td>106.000000</td>\n",
       "      <td>0.000000</td>\n",
       "      <td>0.000000</td>\n",
       "      <td>0.000000</td>\n",
       "      <td>0.000000</td>\n",
       "      <td>0.000000</td>\n",
       "      <td>0.000000</td>\n",
       "      <td>12.000000</td>\n",
       "      <td>0.200000</td>\n",
       "      <td>0.00000</td>\n",
       "      <td>...</td>\n",
       "      <td>50.000000</td>\n",
       "      <td>122.000000</td>\n",
       "      <td>0.000000</td>\n",
       "      <td>0.000000</td>\n",
       "      <td>60.000000</td>\n",
       "      <td>73.000000</td>\n",
       "      <td>77.000000</td>\n",
       "      <td>0.000000</td>\n",
       "      <td>-1.000000</td>\n",
       "      <td>1.000000</td>\n",
       "    </tr>\n",
       "    <tr>\n",
       "      <th>25%</th>\n",
       "      <td>126.000000</td>\n",
       "      <td>0.000000</td>\n",
       "      <td>0.000000</td>\n",
       "      <td>0.002000</td>\n",
       "      <td>0.000000</td>\n",
       "      <td>0.000000</td>\n",
       "      <td>0.000000</td>\n",
       "      <td>32.000000</td>\n",
       "      <td>0.700000</td>\n",
       "      <td>0.00000</td>\n",
       "      <td>...</td>\n",
       "      <td>67.000000</td>\n",
       "      <td>152.000000</td>\n",
       "      <td>2.000000</td>\n",
       "      <td>0.000000</td>\n",
       "      <td>129.000000</td>\n",
       "      <td>125.000000</td>\n",
       "      <td>129.000000</td>\n",
       "      <td>2.000000</td>\n",
       "      <td>0.000000</td>\n",
       "      <td>1.000000</td>\n",
       "    </tr>\n",
       "    <tr>\n",
       "      <th>50%</th>\n",
       "      <td>133.000000</td>\n",
       "      <td>0.002000</td>\n",
       "      <td>0.000000</td>\n",
       "      <td>0.004000</td>\n",
       "      <td>0.000000</td>\n",
       "      <td>0.000000</td>\n",
       "      <td>0.000000</td>\n",
       "      <td>49.000000</td>\n",
       "      <td>1.200000</td>\n",
       "      <td>0.00000</td>\n",
       "      <td>...</td>\n",
       "      <td>93.000000</td>\n",
       "      <td>162.000000</td>\n",
       "      <td>3.000000</td>\n",
       "      <td>0.000000</td>\n",
       "      <td>139.000000</td>\n",
       "      <td>136.000000</td>\n",
       "      <td>139.000000</td>\n",
       "      <td>7.000000</td>\n",
       "      <td>0.000000</td>\n",
       "      <td>1.000000</td>\n",
       "    </tr>\n",
       "    <tr>\n",
       "      <th>75%</th>\n",
       "      <td>140.000000</td>\n",
       "      <td>0.006000</td>\n",
       "      <td>0.003000</td>\n",
       "      <td>0.007000</td>\n",
       "      <td>0.003000</td>\n",
       "      <td>0.000000</td>\n",
       "      <td>0.000000</td>\n",
       "      <td>61.000000</td>\n",
       "      <td>1.700000</td>\n",
       "      <td>11.00000</td>\n",
       "      <td>...</td>\n",
       "      <td>120.000000</td>\n",
       "      <td>174.000000</td>\n",
       "      <td>6.000000</td>\n",
       "      <td>0.000000</td>\n",
       "      <td>148.000000</td>\n",
       "      <td>145.000000</td>\n",
       "      <td>148.000000</td>\n",
       "      <td>24.000000</td>\n",
       "      <td>1.000000</td>\n",
       "      <td>1.000000</td>\n",
       "    </tr>\n",
       "    <tr>\n",
       "      <th>max</th>\n",
       "      <td>160.000000</td>\n",
       "      <td>0.019000</td>\n",
       "      <td>0.481000</td>\n",
       "      <td>0.015000</td>\n",
       "      <td>0.015000</td>\n",
       "      <td>0.001000</td>\n",
       "      <td>0.005000</td>\n",
       "      <td>87.000000</td>\n",
       "      <td>7.000000</td>\n",
       "      <td>91.00000</td>\n",
       "      <td>...</td>\n",
       "      <td>159.000000</td>\n",
       "      <td>238.000000</td>\n",
       "      <td>18.000000</td>\n",
       "      <td>10.000000</td>\n",
       "      <td>187.000000</td>\n",
       "      <td>182.000000</td>\n",
       "      <td>186.000000</td>\n",
       "      <td>269.000000</td>\n",
       "      <td>1.000000</td>\n",
       "      <td>3.000000</td>\n",
       "    </tr>\n",
       "  </tbody>\n",
       "</table>\n",
       "<p>8 rows × 22 columns</p>\n",
       "</div>"
      ],
      "text/plain": [
       "       baseline value  accelerations  fetal_movement  uterine_contractions  \\\n",
       "count     2126.000000    2126.000000     2126.000000           2126.000000   \n",
       "mean       133.303857       0.003178        0.009481              0.004366   \n",
       "std          9.840844       0.003866        0.046666              0.002946   \n",
       "min        106.000000       0.000000        0.000000              0.000000   \n",
       "25%        126.000000       0.000000        0.000000              0.002000   \n",
       "50%        133.000000       0.002000        0.000000              0.004000   \n",
       "75%        140.000000       0.006000        0.003000              0.007000   \n",
       "max        160.000000       0.019000        0.481000              0.015000   \n",
       "\n",
       "       light_decelerations  severe_decelerations  prolongued_decelerations  \\\n",
       "count          2126.000000           2126.000000               2126.000000   \n",
       "mean              0.001889              0.000003                  0.000159   \n",
       "std               0.002960              0.000057                  0.000590   \n",
       "min               0.000000              0.000000                  0.000000   \n",
       "25%               0.000000              0.000000                  0.000000   \n",
       "50%               0.000000              0.000000                  0.000000   \n",
       "75%               0.003000              0.000000                  0.000000   \n",
       "max               0.015000              0.001000                  0.005000   \n",
       "\n",
       "       abnormal_short_term_variability  mean_value_of_short_term_variability  \\\n",
       "count                      2126.000000                           2126.000000   \n",
       "mean                         46.990122                              1.332785   \n",
       "std                          17.192814                              0.883241   \n",
       "min                          12.000000                              0.200000   \n",
       "25%                          32.000000                              0.700000   \n",
       "50%                          49.000000                              1.200000   \n",
       "75%                          61.000000                              1.700000   \n",
       "max                          87.000000                              7.000000   \n",
       "\n",
       "       percentage_of_time_with_abnormal_long_term_variability  ...  \\\n",
       "count                                         2126.00000       ...   \n",
       "mean                                             9.84666       ...   \n",
       "std                                             18.39688       ...   \n",
       "min                                              0.00000       ...   \n",
       "25%                                              0.00000       ...   \n",
       "50%                                              0.00000       ...   \n",
       "75%                                             11.00000       ...   \n",
       "max                                             91.00000       ...   \n",
       "\n",
       "       histogram_min  histogram_max  histogram_number_of_peaks  \\\n",
       "count    2126.000000    2126.000000                2126.000000   \n",
       "mean       93.579492     164.025400                   4.068203   \n",
       "std        29.560212      17.944183                   2.949386   \n",
       "min        50.000000     122.000000                   0.000000   \n",
       "25%        67.000000     152.000000                   2.000000   \n",
       "50%        93.000000     162.000000                   3.000000   \n",
       "75%       120.000000     174.000000                   6.000000   \n",
       "max       159.000000     238.000000                  18.000000   \n",
       "\n",
       "       histogram_number_of_zeroes  histogram_mode  histogram_mean  \\\n",
       "count                 2126.000000     2126.000000     2126.000000   \n",
       "mean                     0.323612      137.452023      134.610536   \n",
       "std                      0.706059       16.381289       15.593596   \n",
       "min                      0.000000       60.000000       73.000000   \n",
       "25%                      0.000000      129.000000      125.000000   \n",
       "50%                      0.000000      139.000000      136.000000   \n",
       "75%                      0.000000      148.000000      145.000000   \n",
       "max                     10.000000      187.000000      182.000000   \n",
       "\n",
       "       histogram_median  histogram_variance  histogram_tendency  fetal_health  \n",
       "count       2126.000000         2126.000000         2126.000000   2126.000000  \n",
       "mean         138.090310           18.808090            0.320320      1.304327  \n",
       "std           14.466589           28.977636            0.610829      0.614377  \n",
       "min           77.000000            0.000000           -1.000000      1.000000  \n",
       "25%          129.000000            2.000000            0.000000      1.000000  \n",
       "50%          139.000000            7.000000            0.000000      1.000000  \n",
       "75%          148.000000           24.000000            1.000000      1.000000  \n",
       "max          186.000000          269.000000            1.000000      3.000000  \n",
       "\n",
       "[8 rows x 22 columns]"
      ]
     },
     "execution_count": 7,
     "metadata": {},
     "output_type": "execute_result"
    }
   ],
   "source": [
    "df.describe()\n"
   ]
  },
  {
   "cell_type": "code",
   "execution_count": 8,
   "id": "d4569b21",
   "metadata": {},
   "outputs": [
    {
     "data": {
      "text/plain": [
       "1.0    1655\n",
       "2.0     295\n",
       "3.0     176\n",
       "Name: fetal_health, dtype: int64"
      ]
     },
     "execution_count": 8,
     "metadata": {},
     "output_type": "execute_result"
    }
   ],
   "source": [
    "df['fetal_health'].value_counts()"
   ]
  },
  {
   "cell_type": "code",
   "execution_count": 9,
   "id": "5d32a7a9",
   "metadata": {},
   "outputs": [
    {
     "name": "stdout",
     "output_type": "stream",
     "text": [
      "<class 'pandas.core.frame.DataFrame'>\n",
      "RangeIndex: 2126 entries, 0 to 2125\n",
      "Data columns (total 22 columns):\n",
      " #   Column                                                  Non-Null Count  Dtype  \n",
      "---  ------                                                  --------------  -----  \n",
      " 0   baseline value                                          2126 non-null   float64\n",
      " 1   accelerations                                           2126 non-null   float64\n",
      " 2   fetal_movement                                          2126 non-null   float64\n",
      " 3   uterine_contractions                                    2126 non-null   float64\n",
      " 4   light_decelerations                                     2126 non-null   float64\n",
      " 5   severe_decelerations                                    2126 non-null   float64\n",
      " 6   prolongued_decelerations                                2126 non-null   float64\n",
      " 7   abnormal_short_term_variability                         2126 non-null   float64\n",
      " 8   mean_value_of_short_term_variability                    2126 non-null   float64\n",
      " 9   percentage_of_time_with_abnormal_long_term_variability  2126 non-null   float64\n",
      " 10  mean_value_of_long_term_variability                     2126 non-null   float64\n",
      " 11  histogram_width                                         2126 non-null   float64\n",
      " 12  histogram_min                                           2126 non-null   float64\n",
      " 13  histogram_max                                           2126 non-null   float64\n",
      " 14  histogram_number_of_peaks                               2126 non-null   float64\n",
      " 15  histogram_number_of_zeroes                              2126 non-null   float64\n",
      " 16  histogram_mode                                          2126 non-null   float64\n",
      " 17  histogram_mean                                          2126 non-null   float64\n",
      " 18  histogram_median                                        2126 non-null   float64\n",
      " 19  histogram_variance                                      2126 non-null   float64\n",
      " 20  histogram_tendency                                      2126 non-null   float64\n",
      " 21  fetal_health                                            2126 non-null   float64\n",
      "dtypes: float64(22)\n",
      "memory usage: 365.5 KB\n"
     ]
    }
   ],
   "source": [
    "df.info()"
   ]
  },
  {
   "cell_type": "code",
   "execution_count": 10,
   "id": "193e393b",
   "metadata": {
    "scrolled": true
   },
   "outputs": [
    {
     "data": {
      "text/html": [
       "<div>\n",
       "<style scoped>\n",
       "    .dataframe tbody tr th:only-of-type {\n",
       "        vertical-align: middle;\n",
       "    }\n",
       "\n",
       "    .dataframe tbody tr th {\n",
       "        vertical-align: top;\n",
       "    }\n",
       "\n",
       "    .dataframe thead th {\n",
       "        text-align: right;\n",
       "    }\n",
       "</style>\n",
       "<table border=\"1\" class=\"dataframe\">\n",
       "  <thead>\n",
       "    <tr style=\"text-align: right;\">\n",
       "      <th></th>\n",
       "      <th>baseline value</th>\n",
       "      <th>accelerations</th>\n",
       "      <th>fetal_movement</th>\n",
       "      <th>uterine_contractions</th>\n",
       "      <th>light_decelerations</th>\n",
       "      <th>severe_decelerations</th>\n",
       "      <th>prolongued_decelerations</th>\n",
       "      <th>abnormal_short_term_variability</th>\n",
       "      <th>mean_value_of_short_term_variability</th>\n",
       "      <th>percentage_of_time_with_abnormal_long_term_variability</th>\n",
       "      <th>...</th>\n",
       "      <th>histogram_min</th>\n",
       "      <th>histogram_max</th>\n",
       "      <th>histogram_number_of_peaks</th>\n",
       "      <th>histogram_number_of_zeroes</th>\n",
       "      <th>histogram_mode</th>\n",
       "      <th>histogram_mean</th>\n",
       "      <th>histogram_median</th>\n",
       "      <th>histogram_variance</th>\n",
       "      <th>histogram_tendency</th>\n",
       "      <th>fetal_health</th>\n",
       "    </tr>\n",
       "  </thead>\n",
       "  <tbody>\n",
       "    <tr>\n",
       "      <th>0</th>\n",
       "      <td>False</td>\n",
       "      <td>False</td>\n",
       "      <td>False</td>\n",
       "      <td>False</td>\n",
       "      <td>False</td>\n",
       "      <td>False</td>\n",
       "      <td>False</td>\n",
       "      <td>False</td>\n",
       "      <td>False</td>\n",
       "      <td>False</td>\n",
       "      <td>...</td>\n",
       "      <td>False</td>\n",
       "      <td>False</td>\n",
       "      <td>False</td>\n",
       "      <td>False</td>\n",
       "      <td>False</td>\n",
       "      <td>False</td>\n",
       "      <td>False</td>\n",
       "      <td>False</td>\n",
       "      <td>False</td>\n",
       "      <td>False</td>\n",
       "    </tr>\n",
       "    <tr>\n",
       "      <th>1</th>\n",
       "      <td>False</td>\n",
       "      <td>False</td>\n",
       "      <td>False</td>\n",
       "      <td>False</td>\n",
       "      <td>False</td>\n",
       "      <td>False</td>\n",
       "      <td>False</td>\n",
       "      <td>False</td>\n",
       "      <td>False</td>\n",
       "      <td>False</td>\n",
       "      <td>...</td>\n",
       "      <td>False</td>\n",
       "      <td>False</td>\n",
       "      <td>False</td>\n",
       "      <td>False</td>\n",
       "      <td>False</td>\n",
       "      <td>False</td>\n",
       "      <td>False</td>\n",
       "      <td>False</td>\n",
       "      <td>False</td>\n",
       "      <td>False</td>\n",
       "    </tr>\n",
       "    <tr>\n",
       "      <th>2</th>\n",
       "      <td>False</td>\n",
       "      <td>False</td>\n",
       "      <td>False</td>\n",
       "      <td>False</td>\n",
       "      <td>False</td>\n",
       "      <td>False</td>\n",
       "      <td>False</td>\n",
       "      <td>False</td>\n",
       "      <td>False</td>\n",
       "      <td>False</td>\n",
       "      <td>...</td>\n",
       "      <td>False</td>\n",
       "      <td>False</td>\n",
       "      <td>False</td>\n",
       "      <td>False</td>\n",
       "      <td>False</td>\n",
       "      <td>False</td>\n",
       "      <td>False</td>\n",
       "      <td>False</td>\n",
       "      <td>False</td>\n",
       "      <td>False</td>\n",
       "    </tr>\n",
       "    <tr>\n",
       "      <th>3</th>\n",
       "      <td>False</td>\n",
       "      <td>False</td>\n",
       "      <td>False</td>\n",
       "      <td>False</td>\n",
       "      <td>False</td>\n",
       "      <td>False</td>\n",
       "      <td>False</td>\n",
       "      <td>False</td>\n",
       "      <td>False</td>\n",
       "      <td>False</td>\n",
       "      <td>...</td>\n",
       "      <td>False</td>\n",
       "      <td>False</td>\n",
       "      <td>False</td>\n",
       "      <td>False</td>\n",
       "      <td>False</td>\n",
       "      <td>False</td>\n",
       "      <td>False</td>\n",
       "      <td>False</td>\n",
       "      <td>False</td>\n",
       "      <td>False</td>\n",
       "    </tr>\n",
       "    <tr>\n",
       "      <th>4</th>\n",
       "      <td>False</td>\n",
       "      <td>False</td>\n",
       "      <td>False</td>\n",
       "      <td>False</td>\n",
       "      <td>False</td>\n",
       "      <td>False</td>\n",
       "      <td>False</td>\n",
       "      <td>False</td>\n",
       "      <td>False</td>\n",
       "      <td>False</td>\n",
       "      <td>...</td>\n",
       "      <td>False</td>\n",
       "      <td>False</td>\n",
       "      <td>False</td>\n",
       "      <td>False</td>\n",
       "      <td>False</td>\n",
       "      <td>False</td>\n",
       "      <td>False</td>\n",
       "      <td>False</td>\n",
       "      <td>False</td>\n",
       "      <td>False</td>\n",
       "    </tr>\n",
       "    <tr>\n",
       "      <th>...</th>\n",
       "      <td>...</td>\n",
       "      <td>...</td>\n",
       "      <td>...</td>\n",
       "      <td>...</td>\n",
       "      <td>...</td>\n",
       "      <td>...</td>\n",
       "      <td>...</td>\n",
       "      <td>...</td>\n",
       "      <td>...</td>\n",
       "      <td>...</td>\n",
       "      <td>...</td>\n",
       "      <td>...</td>\n",
       "      <td>...</td>\n",
       "      <td>...</td>\n",
       "      <td>...</td>\n",
       "      <td>...</td>\n",
       "      <td>...</td>\n",
       "      <td>...</td>\n",
       "      <td>...</td>\n",
       "      <td>...</td>\n",
       "      <td>...</td>\n",
       "    </tr>\n",
       "    <tr>\n",
       "      <th>2121</th>\n",
       "      <td>False</td>\n",
       "      <td>False</td>\n",
       "      <td>False</td>\n",
       "      <td>False</td>\n",
       "      <td>False</td>\n",
       "      <td>False</td>\n",
       "      <td>False</td>\n",
       "      <td>False</td>\n",
       "      <td>False</td>\n",
       "      <td>False</td>\n",
       "      <td>...</td>\n",
       "      <td>False</td>\n",
       "      <td>False</td>\n",
       "      <td>False</td>\n",
       "      <td>False</td>\n",
       "      <td>False</td>\n",
       "      <td>False</td>\n",
       "      <td>False</td>\n",
       "      <td>False</td>\n",
       "      <td>False</td>\n",
       "      <td>False</td>\n",
       "    </tr>\n",
       "    <tr>\n",
       "      <th>2122</th>\n",
       "      <td>False</td>\n",
       "      <td>False</td>\n",
       "      <td>False</td>\n",
       "      <td>False</td>\n",
       "      <td>False</td>\n",
       "      <td>False</td>\n",
       "      <td>False</td>\n",
       "      <td>False</td>\n",
       "      <td>False</td>\n",
       "      <td>False</td>\n",
       "      <td>...</td>\n",
       "      <td>False</td>\n",
       "      <td>False</td>\n",
       "      <td>False</td>\n",
       "      <td>False</td>\n",
       "      <td>False</td>\n",
       "      <td>False</td>\n",
       "      <td>False</td>\n",
       "      <td>False</td>\n",
       "      <td>False</td>\n",
       "      <td>False</td>\n",
       "    </tr>\n",
       "    <tr>\n",
       "      <th>2123</th>\n",
       "      <td>False</td>\n",
       "      <td>False</td>\n",
       "      <td>False</td>\n",
       "      <td>False</td>\n",
       "      <td>False</td>\n",
       "      <td>False</td>\n",
       "      <td>False</td>\n",
       "      <td>False</td>\n",
       "      <td>False</td>\n",
       "      <td>False</td>\n",
       "      <td>...</td>\n",
       "      <td>False</td>\n",
       "      <td>False</td>\n",
       "      <td>False</td>\n",
       "      <td>False</td>\n",
       "      <td>False</td>\n",
       "      <td>False</td>\n",
       "      <td>False</td>\n",
       "      <td>False</td>\n",
       "      <td>False</td>\n",
       "      <td>False</td>\n",
       "    </tr>\n",
       "    <tr>\n",
       "      <th>2124</th>\n",
       "      <td>False</td>\n",
       "      <td>False</td>\n",
       "      <td>False</td>\n",
       "      <td>False</td>\n",
       "      <td>False</td>\n",
       "      <td>False</td>\n",
       "      <td>False</td>\n",
       "      <td>False</td>\n",
       "      <td>False</td>\n",
       "      <td>False</td>\n",
       "      <td>...</td>\n",
       "      <td>False</td>\n",
       "      <td>False</td>\n",
       "      <td>False</td>\n",
       "      <td>False</td>\n",
       "      <td>False</td>\n",
       "      <td>False</td>\n",
       "      <td>False</td>\n",
       "      <td>False</td>\n",
       "      <td>False</td>\n",
       "      <td>False</td>\n",
       "    </tr>\n",
       "    <tr>\n",
       "      <th>2125</th>\n",
       "      <td>False</td>\n",
       "      <td>False</td>\n",
       "      <td>False</td>\n",
       "      <td>False</td>\n",
       "      <td>False</td>\n",
       "      <td>False</td>\n",
       "      <td>False</td>\n",
       "      <td>False</td>\n",
       "      <td>False</td>\n",
       "      <td>False</td>\n",
       "      <td>...</td>\n",
       "      <td>False</td>\n",
       "      <td>False</td>\n",
       "      <td>False</td>\n",
       "      <td>False</td>\n",
       "      <td>False</td>\n",
       "      <td>False</td>\n",
       "      <td>False</td>\n",
       "      <td>False</td>\n",
       "      <td>False</td>\n",
       "      <td>False</td>\n",
       "    </tr>\n",
       "  </tbody>\n",
       "</table>\n",
       "<p>2126 rows × 22 columns</p>\n",
       "</div>"
      ],
      "text/plain": [
       "      baseline value  accelerations  fetal_movement  uterine_contractions  \\\n",
       "0              False          False           False                 False   \n",
       "1              False          False           False                 False   \n",
       "2              False          False           False                 False   \n",
       "3              False          False           False                 False   \n",
       "4              False          False           False                 False   \n",
       "...              ...            ...             ...                   ...   \n",
       "2121           False          False           False                 False   \n",
       "2122           False          False           False                 False   \n",
       "2123           False          False           False                 False   \n",
       "2124           False          False           False                 False   \n",
       "2125           False          False           False                 False   \n",
       "\n",
       "      light_decelerations  severe_decelerations  prolongued_decelerations  \\\n",
       "0                   False                 False                     False   \n",
       "1                   False                 False                     False   \n",
       "2                   False                 False                     False   \n",
       "3                   False                 False                     False   \n",
       "4                   False                 False                     False   \n",
       "...                   ...                   ...                       ...   \n",
       "2121                False                 False                     False   \n",
       "2122                False                 False                     False   \n",
       "2123                False                 False                     False   \n",
       "2124                False                 False                     False   \n",
       "2125                False                 False                     False   \n",
       "\n",
       "      abnormal_short_term_variability  mean_value_of_short_term_variability  \\\n",
       "0                               False                                 False   \n",
       "1                               False                                 False   \n",
       "2                               False                                 False   \n",
       "3                               False                                 False   \n",
       "4                               False                                 False   \n",
       "...                               ...                                   ...   \n",
       "2121                            False                                 False   \n",
       "2122                            False                                 False   \n",
       "2123                            False                                 False   \n",
       "2124                            False                                 False   \n",
       "2125                            False                                 False   \n",
       "\n",
       "      percentage_of_time_with_abnormal_long_term_variability  ...  \\\n",
       "0                                                 False       ...   \n",
       "1                                                 False       ...   \n",
       "2                                                 False       ...   \n",
       "3                                                 False       ...   \n",
       "4                                                 False       ...   \n",
       "...                                                 ...       ...   \n",
       "2121                                              False       ...   \n",
       "2122                                              False       ...   \n",
       "2123                                              False       ...   \n",
       "2124                                              False       ...   \n",
       "2125                                              False       ...   \n",
       "\n",
       "      histogram_min  histogram_max  histogram_number_of_peaks  \\\n",
       "0             False          False                      False   \n",
       "1             False          False                      False   \n",
       "2             False          False                      False   \n",
       "3             False          False                      False   \n",
       "4             False          False                      False   \n",
       "...             ...            ...                        ...   \n",
       "2121          False          False                      False   \n",
       "2122          False          False                      False   \n",
       "2123          False          False                      False   \n",
       "2124          False          False                      False   \n",
       "2125          False          False                      False   \n",
       "\n",
       "      histogram_number_of_zeroes  histogram_mode  histogram_mean  \\\n",
       "0                          False           False           False   \n",
       "1                          False           False           False   \n",
       "2                          False           False           False   \n",
       "3                          False           False           False   \n",
       "4                          False           False           False   \n",
       "...                          ...             ...             ...   \n",
       "2121                       False           False           False   \n",
       "2122                       False           False           False   \n",
       "2123                       False           False           False   \n",
       "2124                       False           False           False   \n",
       "2125                       False           False           False   \n",
       "\n",
       "      histogram_median  histogram_variance  histogram_tendency  fetal_health  \n",
       "0                False               False               False         False  \n",
       "1                False               False               False         False  \n",
       "2                False               False               False         False  \n",
       "3                False               False               False         False  \n",
       "4                False               False               False         False  \n",
       "...                ...                 ...                 ...           ...  \n",
       "2121             False               False               False         False  \n",
       "2122             False               False               False         False  \n",
       "2123             False               False               False         False  \n",
       "2124             False               False               False         False  \n",
       "2125             False               False               False         False  \n",
       "\n",
       "[2126 rows x 22 columns]"
      ]
     },
     "execution_count": 10,
     "metadata": {},
     "output_type": "execute_result"
    }
   ],
   "source": [
    "df.isnull()"
   ]
  },
  {
   "cell_type": "code",
   "execution_count": 11,
   "id": "568b215f",
   "metadata": {},
   "outputs": [
    {
     "data": {
      "text/plain": [
       "baseline value                                            0\n",
       "accelerations                                             0\n",
       "fetal_movement                                            0\n",
       "uterine_contractions                                      0\n",
       "light_decelerations                                       0\n",
       "severe_decelerations                                      0\n",
       "prolongued_decelerations                                  0\n",
       "abnormal_short_term_variability                           0\n",
       "mean_value_of_short_term_variability                      0\n",
       "percentage_of_time_with_abnormal_long_term_variability    0\n",
       "mean_value_of_long_term_variability                       0\n",
       "histogram_width                                           0\n",
       "histogram_min                                             0\n",
       "histogram_max                                             0\n",
       "histogram_number_of_peaks                                 0\n",
       "histogram_number_of_zeroes                                0\n",
       "histogram_mode                                            0\n",
       "histogram_mean                                            0\n",
       "histogram_median                                          0\n",
       "histogram_variance                                        0\n",
       "histogram_tendency                                        0\n",
       "fetal_health                                              0\n",
       "dtype: int64"
      ]
     },
     "execution_count": 11,
     "metadata": {},
     "output_type": "execute_result"
    }
   ],
   "source": [
    "df.isnull().sum()"
   ]
  },
  {
   "cell_type": "code",
   "execution_count": 12,
   "id": "948a5ee0",
   "metadata": {},
   "outputs": [
    {
     "data": {
      "text/plain": [
       "baseline value                                            0\n",
       "accelerations                                             0\n",
       "fetal_movement                                            0\n",
       "uterine_contractions                                      0\n",
       "light_decelerations                                       0\n",
       "severe_decelerations                                      0\n",
       "prolongued_decelerations                                  0\n",
       "abnormal_short_term_variability                           0\n",
       "mean_value_of_short_term_variability                      0\n",
       "percentage_of_time_with_abnormal_long_term_variability    0\n",
       "mean_value_of_long_term_variability                       0\n",
       "histogram_width                                           0\n",
       "histogram_min                                             0\n",
       "histogram_max                                             0\n",
       "histogram_number_of_peaks                                 0\n",
       "histogram_number_of_zeroes                                0\n",
       "histogram_mode                                            0\n",
       "histogram_mean                                            0\n",
       "histogram_median                                          0\n",
       "histogram_variance                                        0\n",
       "histogram_tendency                                        0\n",
       "fetal_health                                              0\n",
       "dtype: int64"
      ]
     },
     "execution_count": 12,
     "metadata": {},
     "output_type": "execute_result"
    }
   ],
   "source": [
    "df.isna().sum()"
   ]
  },
  {
   "cell_type": "code",
   "execution_count": 13,
   "id": "0037ee76",
   "metadata": {},
   "outputs": [],
   "source": [
    "df.drop_duplicates(keep='first',inplace=True)"
   ]
  },
  {
   "cell_type": "code",
   "execution_count": 14,
   "id": "423fdc62",
   "metadata": {},
   "outputs": [
    {
     "data": {
      "text/html": [
       "<div>\n",
       "<style scoped>\n",
       "    .dataframe tbody tr th:only-of-type {\n",
       "        vertical-align: middle;\n",
       "    }\n",
       "\n",
       "    .dataframe tbody tr th {\n",
       "        vertical-align: top;\n",
       "    }\n",
       "\n",
       "    .dataframe thead th {\n",
       "        text-align: right;\n",
       "    }\n",
       "</style>\n",
       "<table border=\"1\" class=\"dataframe\">\n",
       "  <thead>\n",
       "    <tr style=\"text-align: right;\">\n",
       "      <th></th>\n",
       "      <th>baseline value</th>\n",
       "      <th>accelerations</th>\n",
       "      <th>fetal_movement</th>\n",
       "      <th>uterine_contractions</th>\n",
       "      <th>light_decelerations</th>\n",
       "      <th>severe_decelerations</th>\n",
       "      <th>prolongued_decelerations</th>\n",
       "      <th>abnormal_short_term_variability</th>\n",
       "      <th>mean_value_of_short_term_variability</th>\n",
       "      <th>percentage_of_time_with_abnormal_long_term_variability</th>\n",
       "      <th>...</th>\n",
       "      <th>histogram_min</th>\n",
       "      <th>histogram_max</th>\n",
       "      <th>histogram_number_of_peaks</th>\n",
       "      <th>histogram_number_of_zeroes</th>\n",
       "      <th>histogram_mode</th>\n",
       "      <th>histogram_mean</th>\n",
       "      <th>histogram_median</th>\n",
       "      <th>histogram_variance</th>\n",
       "      <th>histogram_tendency</th>\n",
       "      <th>fetal_health</th>\n",
       "    </tr>\n",
       "  </thead>\n",
       "  <tbody>\n",
       "    <tr>\n",
       "      <th>2121</th>\n",
       "      <td>140.0</td>\n",
       "      <td>0.000</td>\n",
       "      <td>0.000</td>\n",
       "      <td>0.007</td>\n",
       "      <td>0.0</td>\n",
       "      <td>0.0</td>\n",
       "      <td>0.0</td>\n",
       "      <td>79.0</td>\n",
       "      <td>0.2</td>\n",
       "      <td>25.0</td>\n",
       "      <td>...</td>\n",
       "      <td>137.0</td>\n",
       "      <td>177.0</td>\n",
       "      <td>4.0</td>\n",
       "      <td>0.0</td>\n",
       "      <td>153.0</td>\n",
       "      <td>150.0</td>\n",
       "      <td>152.0</td>\n",
       "      <td>2.0</td>\n",
       "      <td>0.0</td>\n",
       "      <td>2.0</td>\n",
       "    </tr>\n",
       "    <tr>\n",
       "      <th>2122</th>\n",
       "      <td>140.0</td>\n",
       "      <td>0.001</td>\n",
       "      <td>0.000</td>\n",
       "      <td>0.007</td>\n",
       "      <td>0.0</td>\n",
       "      <td>0.0</td>\n",
       "      <td>0.0</td>\n",
       "      <td>78.0</td>\n",
       "      <td>0.4</td>\n",
       "      <td>22.0</td>\n",
       "      <td>...</td>\n",
       "      <td>103.0</td>\n",
       "      <td>169.0</td>\n",
       "      <td>6.0</td>\n",
       "      <td>0.0</td>\n",
       "      <td>152.0</td>\n",
       "      <td>148.0</td>\n",
       "      <td>151.0</td>\n",
       "      <td>3.0</td>\n",
       "      <td>1.0</td>\n",
       "      <td>2.0</td>\n",
       "    </tr>\n",
       "    <tr>\n",
       "      <th>2123</th>\n",
       "      <td>140.0</td>\n",
       "      <td>0.001</td>\n",
       "      <td>0.000</td>\n",
       "      <td>0.007</td>\n",
       "      <td>0.0</td>\n",
       "      <td>0.0</td>\n",
       "      <td>0.0</td>\n",
       "      <td>79.0</td>\n",
       "      <td>0.4</td>\n",
       "      <td>20.0</td>\n",
       "      <td>...</td>\n",
       "      <td>103.0</td>\n",
       "      <td>170.0</td>\n",
       "      <td>5.0</td>\n",
       "      <td>0.0</td>\n",
       "      <td>153.0</td>\n",
       "      <td>148.0</td>\n",
       "      <td>152.0</td>\n",
       "      <td>4.0</td>\n",
       "      <td>1.0</td>\n",
       "      <td>2.0</td>\n",
       "    </tr>\n",
       "    <tr>\n",
       "      <th>2124</th>\n",
       "      <td>140.0</td>\n",
       "      <td>0.001</td>\n",
       "      <td>0.000</td>\n",
       "      <td>0.006</td>\n",
       "      <td>0.0</td>\n",
       "      <td>0.0</td>\n",
       "      <td>0.0</td>\n",
       "      <td>78.0</td>\n",
       "      <td>0.4</td>\n",
       "      <td>27.0</td>\n",
       "      <td>...</td>\n",
       "      <td>103.0</td>\n",
       "      <td>169.0</td>\n",
       "      <td>6.0</td>\n",
       "      <td>0.0</td>\n",
       "      <td>152.0</td>\n",
       "      <td>147.0</td>\n",
       "      <td>151.0</td>\n",
       "      <td>4.0</td>\n",
       "      <td>1.0</td>\n",
       "      <td>2.0</td>\n",
       "    </tr>\n",
       "    <tr>\n",
       "      <th>2125</th>\n",
       "      <td>142.0</td>\n",
       "      <td>0.002</td>\n",
       "      <td>0.002</td>\n",
       "      <td>0.008</td>\n",
       "      <td>0.0</td>\n",
       "      <td>0.0</td>\n",
       "      <td>0.0</td>\n",
       "      <td>74.0</td>\n",
       "      <td>0.4</td>\n",
       "      <td>36.0</td>\n",
       "      <td>...</td>\n",
       "      <td>117.0</td>\n",
       "      <td>159.0</td>\n",
       "      <td>2.0</td>\n",
       "      <td>1.0</td>\n",
       "      <td>145.0</td>\n",
       "      <td>143.0</td>\n",
       "      <td>145.0</td>\n",
       "      <td>1.0</td>\n",
       "      <td>0.0</td>\n",
       "      <td>1.0</td>\n",
       "    </tr>\n",
       "  </tbody>\n",
       "</table>\n",
       "<p>5 rows × 22 columns</p>\n",
       "</div>"
      ],
      "text/plain": [
       "      baseline value  accelerations  fetal_movement  uterine_contractions  \\\n",
       "2121           140.0          0.000           0.000                 0.007   \n",
       "2122           140.0          0.001           0.000                 0.007   \n",
       "2123           140.0          0.001           0.000                 0.007   \n",
       "2124           140.0          0.001           0.000                 0.006   \n",
       "2125           142.0          0.002           0.002                 0.008   \n",
       "\n",
       "      light_decelerations  severe_decelerations  prolongued_decelerations  \\\n",
       "2121                  0.0                   0.0                       0.0   \n",
       "2122                  0.0                   0.0                       0.0   \n",
       "2123                  0.0                   0.0                       0.0   \n",
       "2124                  0.0                   0.0                       0.0   \n",
       "2125                  0.0                   0.0                       0.0   \n",
       "\n",
       "      abnormal_short_term_variability  mean_value_of_short_term_variability  \\\n",
       "2121                             79.0                                   0.2   \n",
       "2122                             78.0                                   0.4   \n",
       "2123                             79.0                                   0.4   \n",
       "2124                             78.0                                   0.4   \n",
       "2125                             74.0                                   0.4   \n",
       "\n",
       "      percentage_of_time_with_abnormal_long_term_variability  ...  \\\n",
       "2121                                               25.0       ...   \n",
       "2122                                               22.0       ...   \n",
       "2123                                               20.0       ...   \n",
       "2124                                               27.0       ...   \n",
       "2125                                               36.0       ...   \n",
       "\n",
       "      histogram_min  histogram_max  histogram_number_of_peaks  \\\n",
       "2121          137.0          177.0                        4.0   \n",
       "2122          103.0          169.0                        6.0   \n",
       "2123          103.0          170.0                        5.0   \n",
       "2124          103.0          169.0                        6.0   \n",
       "2125          117.0          159.0                        2.0   \n",
       "\n",
       "      histogram_number_of_zeroes  histogram_mode  histogram_mean  \\\n",
       "2121                         0.0           153.0           150.0   \n",
       "2122                         0.0           152.0           148.0   \n",
       "2123                         0.0           153.0           148.0   \n",
       "2124                         0.0           152.0           147.0   \n",
       "2125                         1.0           145.0           143.0   \n",
       "\n",
       "      histogram_median  histogram_variance  histogram_tendency  fetal_health  \n",
       "2121             152.0                 2.0                 0.0           2.0  \n",
       "2122             151.0                 3.0                 1.0           2.0  \n",
       "2123             152.0                 4.0                 1.0           2.0  \n",
       "2124             151.0                 4.0                 1.0           2.0  \n",
       "2125             145.0                 1.0                 0.0           1.0  \n",
       "\n",
       "[5 rows x 22 columns]"
      ]
     },
     "execution_count": 14,
     "metadata": {},
     "output_type": "execute_result"
    }
   ],
   "source": [
    "df.tail()"
   ]
  },
  {
   "cell_type": "code",
   "execution_count": 15,
   "id": "0952c514",
   "metadata": {
    "scrolled": true
   },
   "outputs": [
    {
     "data": {
      "image/png": "[encoded data removed]",
      "text/plain": [
       "<Figure size 1440x864 with 2 Axes>"
      ]
     },
     "metadata": {},
     "output_type": "display_data"
    }
   ],
   "source": [
    "sns.set(font_scale=1.0)\n",
    "plt.figure(figsize=(20, 12)) \n",
    "plt.title('Fetal Health Classification Heatmap', fontsize=16)\n",
    "heatmap = sns.heatmap(df.corr(), annot=True)"
   ]
  },
  {
   "cell_type": "code",
   "execution_count": 16,
   "id": "9d6dcec8",
   "metadata": {},
   "outputs": [
    {
     "data": {
      "text/plain": [
       "(2113, 22)"
      ]
     },
     "execution_count": 16,
     "metadata": {},
     "output_type": "execute_result"
    }
   ],
   "source": [
    "df.shape"
   ]
  },
  {
   "cell_type": "code",
   "execution_count": 17,
   "id": "a8d687e1",
   "metadata": {},
   "outputs": [
    {
     "data": {
      "text/plain": [
       "1.0    1646\n",
       "2.0     292\n",
       "3.0     175\n",
       "Name: fetal_health, dtype: int64"
      ]
     },
     "execution_count": 17,
     "metadata": {},
     "output_type": "execute_result"
    }
   ],
   "source": [
    "df['fetal_health'].value_counts()"
   ]
  },
  {
   "cell_type": "code",
   "execution_count": 17,
   "id": "e65be161",
   "metadata": {},
   "outputs": [],
   "source": [
    "from sklearn import datasets\n",
    "from sklearn.feature_selection import SelectKBest\n",
    "from sklearn.feature_selection import f_classif"
   ]
  },
  {
   "cell_type": "code",
   "execution_count": 18,
   "id": "86716154",
   "metadata": {},
   "outputs": [],
   "source": [
    "X = df.iloc[:, 0:21]\n",
    "Y = df.iloc[:, -1]"
   ]
  },
  {
   "cell_type": "code",
   "execution_count": 19,
   "id": "0f0c15ee",
   "metadata": {},
   "outputs": [],
   "source": [
    "test = SelectKBest(score_func=f_classif, k=15)\n",
    "fit = test.fit(X, Y)"
   ]
  },
  {
   "cell_type": "code",
   "execution_count": 20,
   "id": "f3c4fcdd",
   "metadata": {},
   "outputs": [],
   "source": [
    "dfscores = pd.DataFrame(fit.scores_)\n",
    "dfcolumns = pd.DataFrame(X.columns)"
   ]
  },
  {
   "cell_type": "code",
   "execution_count": 21,
   "id": "ebb48641",
   "metadata": {},
   "outputs": [
    {
     "name": "stdout",
     "output_type": "stream",
     "text": [
      "                                                Specs       Score\n",
      "6                            prolongued_decelerations  507.304309\n",
      "7                     abnormal_short_term_variability  337.703020\n",
      "9   percentage_of_time_with_abnormal_long_term_var...  335.386156\n",
      "17                                     histogram_mean  298.759569\n",
      "16                                     histogram_mode  276.382795\n",
      "18                                   histogram_median  249.699523\n",
      "1                                       accelerations  194.618345\n",
      "19                                 histogram_variance  150.955827\n",
      "0                                      baseline value  137.833999\n",
      "8                mean_value_of_short_term_variability  118.050463\n",
      "3                                uterine_contractions   93.647474\n",
      "12                                      histogram_min   86.468440\n",
      "10                mean_value_of_long_term_variability   69.418940\n",
      "4                                 light_decelerations   66.750344\n",
      "11                                    histogram_width   54.215605\n"
     ]
    }
   ],
   "source": [
    "featureScores = pd.concat([dfcolumns,dfscores],axis=1)\n",
    "featureScores.columns = ['Specs','Score']  \n",
    "print(featureScores.nlargest(15,'Score'))  "
   ]
  },
  {
   "cell_type": "code",
   "execution_count": 22,
   "id": "50ee4619",
   "metadata": {},
   "outputs": [],
   "source": [
    "data=featureScores.nlargest(15,\"Score\")"
   ]
  },
  {
   "cell_type": "code",
   "execution_count": 23,
   "id": "7c683e79",
   "metadata": {},
   "outputs": [
    {
     "data": {
      "text/html": [
       "<div>\n",
       "<style scoped>\n",
       "    .dataframe tbody tr th:only-of-type {\n",
       "        vertical-align: middle;\n",
       "    }\n",
       "\n",
       "    .dataframe tbody tr th {\n",
       "        vertical-align: top;\n",
       "    }\n",
       "\n",
       "    .dataframe thead th {\n",
       "        text-align: right;\n",
       "    }\n",
       "</style>\n",
       "<table border=\"1\" class=\"dataframe\">\n",
       "  <thead>\n",
       "    <tr style=\"text-align: right;\">\n",
       "      <th></th>\n",
       "      <th>Specs</th>\n",
       "      <th>Score</th>\n",
       "    </tr>\n",
       "  </thead>\n",
       "  <tbody>\n",
       "    <tr>\n",
       "      <th>6</th>\n",
       "      <td>prolongued_decelerations</td>\n",
       "      <td>507.304309</td>\n",
       "    </tr>\n",
       "    <tr>\n",
       "      <th>7</th>\n",
       "      <td>abnormal_short_term_variability</td>\n",
       "      <td>337.703020</td>\n",
       "    </tr>\n",
       "    <tr>\n",
       "      <th>9</th>\n",
       "      <td>percentage_of_time_with_abnormal_long_term_var...</td>\n",
       "      <td>335.386156</td>\n",
       "    </tr>\n",
       "    <tr>\n",
       "      <th>17</th>\n",
       "      <td>histogram_mean</td>\n",
       "      <td>298.759569</td>\n",
       "    </tr>\n",
       "    <tr>\n",
       "      <th>16</th>\n",
       "      <td>histogram_mode</td>\n",
       "      <td>276.382795</td>\n",
       "    </tr>\n",
       "    <tr>\n",
       "      <th>18</th>\n",
       "      <td>histogram_median</td>\n",
       "      <td>249.699523</td>\n",
       "    </tr>\n",
       "    <tr>\n",
       "      <th>1</th>\n",
       "      <td>accelerations</td>\n",
       "      <td>194.618345</td>\n",
       "    </tr>\n",
       "    <tr>\n",
       "      <th>19</th>\n",
       "      <td>histogram_variance</td>\n",
       "      <td>150.955827</td>\n",
       "    </tr>\n",
       "    <tr>\n",
       "      <th>0</th>\n",
       "      <td>baseline value</td>\n",
       "      <td>137.833999</td>\n",
       "    </tr>\n",
       "    <tr>\n",
       "      <th>8</th>\n",
       "      <td>mean_value_of_short_term_variability</td>\n",
       "      <td>118.050463</td>\n",
       "    </tr>\n",
       "    <tr>\n",
       "      <th>3</th>\n",
       "      <td>uterine_contractions</td>\n",
       "      <td>93.647474</td>\n",
       "    </tr>\n",
       "    <tr>\n",
       "      <th>12</th>\n",
       "      <td>histogram_min</td>\n",
       "      <td>86.468440</td>\n",
       "    </tr>\n",
       "    <tr>\n",
       "      <th>10</th>\n",
       "      <td>mean_value_of_long_term_variability</td>\n",
       "      <td>69.418940</td>\n",
       "    </tr>\n",
       "    <tr>\n",
       "      <th>4</th>\n",
       "      <td>light_decelerations</td>\n",
       "      <td>66.750344</td>\n",
       "    </tr>\n",
       "    <tr>\n",
       "      <th>11</th>\n",
       "      <td>histogram_width</td>\n",
       "      <td>54.215605</td>\n",
       "    </tr>\n",
       "  </tbody>\n",
       "</table>\n",
       "</div>"
      ],
      "text/plain": [
       "                                                Specs       Score\n",
       "6                            prolongued_decelerations  507.304309\n",
       "7                     abnormal_short_term_variability  337.703020\n",
       "9   percentage_of_time_with_abnormal_long_term_var...  335.386156\n",
       "17                                     histogram_mean  298.759569\n",
       "16                                     histogram_mode  276.382795\n",
       "18                                   histogram_median  249.699523\n",
       "1                                       accelerations  194.618345\n",
       "19                                 histogram_variance  150.955827\n",
       "0                                      baseline value  137.833999\n",
       "8                mean_value_of_short_term_variability  118.050463\n",
       "3                                uterine_contractions   93.647474\n",
       "12                                      histogram_min   86.468440\n",
       "10                mean_value_of_long_term_variability   69.418940\n",
       "4                                 light_decelerations   66.750344\n",
       "11                                    histogram_width   54.215605"
      ]
     },
     "execution_count": 23,
     "metadata": {},
     "output_type": "execute_result"
    }
   ],
   "source": [
    "data"
   ]
  },
  {
   "cell_type": "code",
   "execution_count": 24,
   "id": "03098241",
   "metadata": {},
   "outputs": [],
   "source": [
    "x=df.iloc[:,[6,7,9,17,16,18,1,19,0,8,3]].values\n",
    "y=df.iloc[:,21].values"
   ]
  },
  {
   "cell_type": "code",
   "execution_count": 25,
   "id": "9df4ee53",
   "metadata": {},
   "outputs": [],
   "source": [
    "data1=[]\n",
    "data2=[]"
   ]
  },
  {
   "cell_type": "code",
   "execution_count": 26,
   "id": "3732b936",
   "metadata": {},
   "outputs": [],
   "source": [
    "from sklearn.model_selection import train_test_split\n",
    "from sklearn.preprocessing import StandardScaler\n",
    "from sklearn.linear_model import LogisticRegression\n",
    "from sklearn.metrics import confusion_matrix\n",
    "from sklearn.metrics import accuracy_score"
   ]
  },
  {
   "cell_type": "code",
   "execution_count": 27,
   "id": "f9a49a8f",
   "metadata": {},
   "outputs": [],
   "source": [
    "xtrain, xtest, ytrain, ytest = train_test_split(x, y, test_size = 0.20, random_state = 42)"
   ]
  },
  {
   "cell_type": "code",
   "execution_count": 28,
   "id": "117c4ae1",
   "metadata": {
    "scrolled": true
   },
   "outputs": [
    {
     "name": "stdout",
     "output_type": "stream",
     "text": [
      "[[-0.27162618 -0.53235547 -0.54795423  0.01731897 -0.09235125 -0.07850276\n",
      "   0.72477418 -0.51943215 -0.33919294 -0.36396408  0.53415816]\n",
      " [-0.27162618 -1.22468386 -0.33542508 -0.81710603 -0.70754093 -0.90596427\n",
      "  -0.81852909 -0.55534005 -1.14571571 -0.02863828 -1.16397445]\n",
      " [-0.27162618 -0.87851967  0.08963323 -0.62454642 -0.76905989 -0.83700914\n",
      "   0.46755697 -0.51943215 -1.14571571 -0.25218882  0.53415816]\n",
      " [-0.27162618  0.04458486 -0.44168966  1.5577959   1.38410396  1.50746514\n",
      "  -0.04687746 -0.59124795  1.17303727 -0.69928989  0.53415816]\n",
      " [-0.27162618  0.96768938 -0.54795423 -1.65153104  0.27676255  0.81791388\n",
      "  -0.30409467  1.27596266  0.87059123  2.98929397 -1.16397445]\n",
      " [-0.27162618 -1.22468386 -0.54795423 -0.56035988 -0.27690816 -0.42327839\n",
      "  -0.81852909  0.59371263 -0.13756224  0.53023806  0.53415816]\n",
      " [-0.27162618  0.33305502 -0.54795423  0.65918436  0.33828152  0.54209337\n",
      "  -0.81852909 -0.55534005  0.66896053 -0.69928989 -0.82434792]\n",
      " [-0.27162618 -0.70543757 -0.54795423  0.53081128  0.39980048  0.47313825\n",
      "  -0.30409467 -0.62715584  0.56814519 -0.36396408  0.19453164]\n",
      " [-0.27162618 -0.87851967 -0.54795423  0.78755744  0.76891429  0.74895875\n",
      "  -0.81852909 -0.59124795  1.07222192 -0.36396408  0.53415816]\n",
      " [-0.27162618 -0.9362137  -0.54795423  0.65918436  0.83043325  0.68000363\n",
      "  -0.81852909 -0.30398478  0.87059123 -0.14041355 -0.82434792]]\n"
     ]
    }
   ],
   "source": [
    "sc_x = StandardScaler()\n",
    "xtrain = sc_x.fit_transform(xtrain)\n",
    "xtest = sc_x.transform(xtest)\n",
    " \n",
    "print (xtrain[0:10, :])"
   ]
  },
  {
   "cell_type": "code",
   "execution_count": 29,
   "id": "017d785a",
   "metadata": {},
   "outputs": [
    {
     "data": {
      "text/plain": [
       "LogisticRegression(multi_class='multinomial', random_state=40)"
      ]
     },
     "execution_count": 29,
     "metadata": {},
     "output_type": "execute_result"
    }
   ],
   "source": [
    "classifier = LogisticRegression(random_state = 40,multi_class='multinomial', solver='lbfgs')\n",
    "classifier.fit(xtrain, ytrain)"
   ]
  },
  {
   "cell_type": "code",
   "execution_count": 30,
   "id": "2b1fff69",
   "metadata": {},
   "outputs": [],
   "source": [
    "y_pred = classifier.predict(xtest)"
   ]
  },
  {
   "cell_type": "code",
   "execution_count": 31,
   "id": "4774e4a0",
   "metadata": {},
   "outputs": [
    {
     "name": "stdout",
     "output_type": "stream",
     "text": [
      "Confusion Matrix : \n",
      " [[327  11   3]\n",
      " [ 19  33   2]\n",
      " [  4   1  23]]\n"
     ]
    }
   ],
   "source": [
    "cm = confusion_matrix(ytest, y_pred)\n",
    "print (\"Confusion Matrix : \\n\", cm)"
   ]
  },
  {
   "cell_type": "code",
   "execution_count": 32,
   "id": "f0b68081",
   "metadata": {},
   "outputs": [
    {
     "name": "stdout",
     "output_type": "stream",
     "text": [
      "Accuracy :  0.9054373522458629\n"
     ]
    }
   ],
   "source": [
    "print (\"Accuracy : \",accuracy_score(ytest, y_pred))"
   ]
  },
  {
   "cell_type": "code",
   "execution_count": 33,
   "id": "e69cee77",
   "metadata": {},
   "outputs": [],
   "source": [
    "data1.append('Logistic Regression')\n",
    "data2.append(accuracy_score(ytest, y_pred))"
   ]
  },
  {
   "cell_type": "code",
   "execution_count": 34,
   "id": "03c874de",
   "metadata": {},
   "outputs": [
    {
     "data": {
      "text/plain": [
       "['Logistic Regression']"
      ]
     },
     "execution_count": 34,
     "metadata": {},
     "output_type": "execute_result"
    }
   ],
   "source": [
    "data1"
   ]
  },
  {
   "cell_type": "code",
   "execution_count": 35,
   "id": "0b48b738",
   "metadata": {},
   "outputs": [
    {
     "data": {
      "text/plain": [
       "[0.9054373522458629]"
      ]
     },
     "execution_count": 35,
     "metadata": {},
     "output_type": "execute_result"
    }
   ],
   "source": [
    "data2"
   ]
  },
  {
   "cell_type": "code",
   "execution_count": 36,
   "id": "1c08343c",
   "metadata": {},
   "outputs": [],
   "source": [
    "from sklearn.ensemble import RandomForestClassifier"
   ]
  },
  {
   "cell_type": "code",
   "execution_count": 37,
   "id": "6445515a",
   "metadata": {},
   "outputs": [],
   "source": [
    "regressor = RandomForestClassifier(n_estimators=20, random_state=0)\n",
    "regressor.fit(xtrain, ytrain)\n",
    "y_pred = regressor.predict(xtest)"
   ]
  },
  {
   "cell_type": "code",
   "execution_count": 38,
   "id": "74e201d0",
   "metadata": {},
   "outputs": [
    {
     "data": {
      "text/plain": [
       "0.9645390070921985"
      ]
     },
     "execution_count": 38,
     "metadata": {},
     "output_type": "execute_result"
    }
   ],
   "source": [
    "accuracy_score(ytest,y_pred)"
   ]
  },
  {
   "cell_type": "code",
   "execution_count": 39,
   "id": "f5397d82",
   "metadata": {},
   "outputs": [
    {
     "name": "stdout",
     "output_type": "stream",
     "text": [
      "Confusion Matrix : \n",
      " [[337   4   0]\n",
      " [ 11  43   0]\n",
      " [  0   0  28]]\n"
     ]
    }
   ],
   "source": [
    "cm = confusion_matrix(ytest, y_pred)\n",
    " \n",
    "print (\"Confusion Matrix : \\n\", cm)"
   ]
  },
  {
   "cell_type": "code",
   "execution_count": 40,
   "id": "fd409914",
   "metadata": {},
   "outputs": [],
   "source": [
    "data1.append('Random Forest')\n",
    "data2.append(accuracy_score(ytest,y_pred))"
   ]
  },
  {
   "cell_type": "code",
   "execution_count": 41,
   "id": "220283de",
   "metadata": {},
   "outputs": [
    {
     "data": {
      "text/plain": [
       "['Logistic Regression', 'Random Forest']"
      ]
     },
     "execution_count": 41,
     "metadata": {},
     "output_type": "execute_result"
    }
   ],
   "source": [
    "data1"
   ]
  },
  {
   "cell_type": "code",
   "execution_count": 42,
   "id": "fae2553f",
   "metadata": {},
   "outputs": [
    {
     "data": {
      "text/plain": [
       "[0.9054373522458629, 0.9645390070921985]"
      ]
     },
     "execution_count": 42,
     "metadata": {},
     "output_type": "execute_result"
    }
   ],
   "source": [
    "data2"
   ]
  },
  {
   "cell_type": "code",
   "execution_count": 43,
   "id": "83cc4adf",
   "metadata": {},
   "outputs": [
    {
     "data": {
      "text/plain": [
       "KNeighborsClassifier(metric='euclidean', n_neighbors=3)"
      ]
     },
     "execution_count": 43,
     "metadata": {},
     "output_type": "execute_result"
    }
   ],
   "source": [
    "from sklearn.neighbors import KNeighborsClassifier\n",
    "classifier = KNeighborsClassifier(n_neighbors = 3, metric = 'euclidean', p = 2)\n",
    "classifier.fit(xtrain, ytrain)"
   ]
  },
  {
   "cell_type": "code",
   "execution_count": 44,
   "id": "b6214fff",
   "metadata": {},
   "outputs": [],
   "source": [
    "y_pred=classifier.predict(xtest)"
   ]
  },
  {
   "cell_type": "code",
   "execution_count": 45,
   "id": "8786800a",
   "metadata": {},
   "outputs": [
    {
     "data": {
      "text/plain": [
       "0.9479905437352246"
      ]
     },
     "execution_count": 45,
     "metadata": {},
     "output_type": "execute_result"
    }
   ],
   "source": [
    "accuracy_score(ytest, y_pred)"
   ]
  },
  {
   "cell_type": "code",
   "execution_count": 46,
   "id": "232d653b",
   "metadata": {},
   "outputs": [
    {
     "name": "stdout",
     "output_type": "stream",
     "text": [
      "Confusion Matrix : \n",
      " [[333   7   1]\n",
      " [ 14  40   0]\n",
      " [  0   0  28]]\n"
     ]
    }
   ],
   "source": [
    "cm = confusion_matrix(ytest, y_pred)\n",
    " \n",
    "print (\"Confusion Matrix : \\n\", cm)"
   ]
  },
  {
   "cell_type": "code",
   "execution_count": 47,
   "id": "a096e887",
   "metadata": {},
   "outputs": [],
   "source": [
    "data1.append('KNN')\n",
    "data2.append(accuracy_score(ytest, y_pred))"
   ]
  },
  {
   "cell_type": "code",
   "execution_count": 48,
   "id": "6abc4d5d",
   "metadata": {},
   "outputs": [
    {
     "data": {
      "text/plain": [
       "['Logistic Regression', 'Random Forest', 'KNN']"
      ]
     },
     "execution_count": 48,
     "metadata": {},
     "output_type": "execute_result"
    }
   ],
   "source": [
    "data1"
   ]
  },
  {
   "cell_type": "code",
   "execution_count": 49,
   "id": "26339454",
   "metadata": {},
   "outputs": [
    {
     "data": {
      "text/plain": [
       "[0.9054373522458629, 0.9645390070921985, 0.9479905437352246]"
      ]
     },
     "execution_count": 49,
     "metadata": {},
     "output_type": "execute_result"
    }
   ],
   "source": [
    "data2"
   ]
  },
  {
   "cell_type": "code",
   "execution_count": 50,
   "id": "8e91cbb6",
   "metadata": {},
   "outputs": [],
   "source": [
    "from sklearn.svm import SVC"
   ]
  },
  {
   "cell_type": "code",
   "execution_count": 51,
   "id": "afcc7bc5",
   "metadata": {},
   "outputs": [
    {
     "name": "stdout",
     "output_type": "stream",
     "text": [
      "0.972189349112426\n",
      "0.9290780141843972\n"
     ]
    }
   ],
   "source": [
    "svc_model = SVC(C= 1.0, kernel='rbf', gamma= 1)\n",
    "svc_model.fit(xtrain, ytrain)\n",
    "  \n",
    "y_pred = svc_model .predict(xtest)\n",
    "# check the accuracy on the training set\n",
    "print(svc_model.score(xtrain, ytrain))\n",
    "print(svc_model.score(xtest, ytest))"
   ]
  },
  {
   "cell_type": "code",
   "execution_count": 52,
   "id": "89dc0df8",
   "metadata": {},
   "outputs": [
    {
     "name": "stdout",
     "output_type": "stream",
     "text": [
      "Confusion Matrix : \n",
      " [[337   4   0]\n",
      " [ 16  38   0]\n",
      " [ 10   0  18]]\n"
     ]
    }
   ],
   "source": [
    "cm = confusion_matrix(ytest, y_pred)\n",
    "print (\"Confusion Matrix : \\n\", cm)"
   ]
  },
  {
   "cell_type": "code",
   "execution_count": 53,
   "id": "f3e6aa60",
   "metadata": {},
   "outputs": [],
   "source": [
    "data1.append('support vector')\n",
    "data2.append(svc_model.score(xtest, ytest))"
   ]
  },
  {
   "cell_type": "code",
   "execution_count": 54,
   "id": "8bbae2a9",
   "metadata": {},
   "outputs": [
    {
     "data": {
      "text/plain": [
       "['Logistic Regression', 'Random Forest', 'KNN', 'support vector']"
      ]
     },
     "execution_count": 54,
     "metadata": {},
     "output_type": "execute_result"
    }
   ],
   "source": [
    "data1"
   ]
  },
  {
   "cell_type": "code",
   "execution_count": 55,
   "id": "3d73326c",
   "metadata": {},
   "outputs": [
    {
     "data": {
      "text/plain": [
       "[0.9054373522458629,\n",
       " 0.9645390070921985,\n",
       " 0.9479905437352246,\n",
       " 0.9290780141843972]"
      ]
     },
     "execution_count": 55,
     "metadata": {},
     "output_type": "execute_result"
    }
   ],
   "source": [
    "data2"
   ]
  },
  {
   "cell_type": "code",
   "execution_count": 56,
   "id": "86e1556b",
   "metadata": {},
   "outputs": [
    {
     "name": "stdout",
     "output_type": "stream",
     "text": [
      "0.901775147928994\n",
      "0.9219858156028369\n"
     ]
    }
   ],
   "source": [
    "svc_model = SVC(C=6.0, kernel='linear', gamma= 1)\n",
    "svc_model.fit(xtrain, ytrain)\n",
    "  \n",
    "y_pred = svc_model .predict(xtest)\n",
    "# check the accuracy on the training set\n",
    "print(svc_model.score(xtrain, ytrain))\n",
    "print(svc_model.score(xtest, ytest))"
   ]
  },
  {
   "cell_type": "code",
   "execution_count": 57,
   "id": "9230a5ce",
   "metadata": {},
   "outputs": [
    {
     "name": "stdout",
     "output_type": "stream",
     "text": [
      "Confusion Matrix : \n",
      " [[328  11   2]\n",
      " [ 16  36   2]\n",
      " [  2   0  26]]\n"
     ]
    }
   ],
   "source": [
    "cm = confusion_matrix(ytest, y_pred)\n",
    "print (\"Confusion Matrix : \\n\", cm)"
   ]
  },
  {
   "cell_type": "code",
   "execution_count": 58,
   "id": "2cfec9fe",
   "metadata": {},
   "outputs": [],
   "source": [
    "data1.append('Linear SVC')\n",
    "data2.append(svc_model.score(xtest, ytest))"
   ]
  },
  {
   "cell_type": "code",
   "execution_count": 59,
   "id": "0bccea4a",
   "metadata": {},
   "outputs": [
    {
     "data": {
      "text/plain": [
       "['Logistic Regression', 'Random Forest', 'KNN', 'support vector', 'Linear SVC']"
      ]
     },
     "execution_count": 59,
     "metadata": {},
     "output_type": "execute_result"
    }
   ],
   "source": [
    "data1"
   ]
  },
  {
   "cell_type": "code",
   "execution_count": 60,
   "id": "0046ea2e",
   "metadata": {},
   "outputs": [
    {
     "data": {
      "text/plain": [
       "[0.9054373522458629,\n",
       " 0.9645390070921985,\n",
       " 0.9479905437352246,\n",
       " 0.9290780141843972,\n",
       " 0.9219858156028369]"
      ]
     },
     "execution_count": 60,
     "metadata": {},
     "output_type": "execute_result"
    }
   ],
   "source": [
    "data2"
   ]
  },
  {
   "cell_type": "code",
   "execution_count": 61,
   "id": "7ae66343",
   "metadata": {},
   "outputs": [],
   "source": [
    "from sklearn.tree import DecisionTreeClassifier"
   ]
  },
  {
   "cell_type": "code",
   "execution_count": 62,
   "id": "f59159cf",
   "metadata": {},
   "outputs": [],
   "source": [
    "dt = DecisionTreeClassifier()"
   ]
  },
  {
   "cell_type": "code",
   "execution_count": 63,
   "id": "5a43c174",
   "metadata": {},
   "outputs": [
    {
     "data": {
      "text/plain": [
       "DecisionTreeClassifier()"
      ]
     },
     "execution_count": 63,
     "metadata": {},
     "output_type": "execute_result"
    }
   ],
   "source": [
    "dt.fit(xtrain,ytrain)"
   ]
  },
  {
   "cell_type": "code",
   "execution_count": 64,
   "id": "13f507b5",
   "metadata": {},
   "outputs": [
    {
     "name": "stdout",
     "output_type": "stream",
     "text": [
      "|--- feature_9 <= -0.87\n",
      "|   |--- feature_2 <= 3.09\n",
      "|   |   |--- feature_1 <= 0.71\n",
      "|   |   |   |--- feature_4 <= 0.55\n",
      "|   |   |   |   |--- class: 1.0\n",
      "|   |   |   |--- feature_4 >  0.55\n",
      "|   |   |   |   |--- feature_2 <= 2.67\n",
      "|   |   |   |   |   |--- feature_7 <= -0.50\n",
      "|   |   |   |   |   |   |--- feature_8 <= 1.37\n",
      "|   |   |   |   |   |   |   |--- feature_2 <= 0.73\n",
      "|   |   |   |   |   |   |   |   |--- class: 1.0\n",
      "|   |   |   |   |   |   |   |--- feature_2 >  0.73\n",
      "|   |   |   |   |   |   |   |   |--- feature_1 <= 0.48\n",
      "|   |   |   |   |   |   |   |   |   |--- class: 1.0\n",
      "|   |   |   |   |   |   |   |   |--- feature_1 >  0.48\n",
      "|   |   |   |   |   |   |   |   |   |--- class: 2.0\n",
      "|   |   |   |   |   |   |--- feature_8 >  1.37\n",
      "|   |   |   |   |   |   |   |--- feature_4 <= 1.01\n",
      "|   |   |   |   |   |   |   |   |--- feature_7 <= -0.57\n",
      "|   |   |   |   |   |   |   |   |   |--- class: 1.0\n",
      "|   |   |   |   |   |   |   |   |--- feature_7 >  -0.57\n",
      "|   |   |   |   |   |   |   |   |   |--- class: 2.0\n",
      "|   |   |   |   |   |   |   |--- feature_4 >  1.01\n",
      "|   |   |   |   |   |   |   |   |--- class: 1.0\n",
      "|   |   |   |   |   |--- feature_7 >  -0.50\n",
      "|   |   |   |   |   |   |--- feature_3 <= 0.98\n",
      "|   |   |   |   |   |   |   |--- feature_2 <= 0.67\n",
      "|   |   |   |   |   |   |   |   |--- class: 1.0\n",
      "|   |   |   |   |   |   |   |--- feature_2 >  0.67\n",
      "|   |   |   |   |   |   |   |   |--- class: 2.0\n",
      "|   |   |   |   |   |   |--- feature_3 >  0.98\n",
      "|   |   |   |   |   |   |   |--- class: 2.0\n",
      "|   |   |   |   |--- feature_2 >  2.67\n",
      "|   |   |   |   |   |--- class: 2.0\n",
      "|   |   |--- feature_1 >  0.71\n",
      "|   |   |   |--- feature_1 <= 1.86\n",
      "|   |   |   |   |--- feature_2 <= -0.20\n",
      "|   |   |   |   |   |--- feature_8 <= 1.02\n",
      "|   |   |   |   |   |   |--- feature_10 <= -1.33\n",
      "|   |   |   |   |   |   |   |--- feature_1 <= 0.85\n",
      "|   |   |   |   |   |   |   |   |--- class: 1.0\n",
      "|   |   |   |   |   |   |   |--- feature_1 >  0.85\n",
      "|   |   |   |   |   |   |   |   |--- class: 2.0\n",
      "|   |   |   |   |   |   |--- feature_10 >  -1.33\n",
      "|   |   |   |   |   |   |   |--- feature_9 <= -0.98\n",
      "|   |   |   |   |   |   |   |   |--- class: 1.0\n",
      "|   |   |   |   |   |   |   |--- feature_9 >  -0.98\n",
      "|   |   |   |   |   |   |   |   |--- feature_8 <= -0.34\n",
      "|   |   |   |   |   |   |   |   |   |--- class: 1.0\n",
      "|   |   |   |   |   |   |   |   |--- feature_8 >  -0.34\n",
      "|   |   |   |   |   |   |   |   |   |--- class: 2.0\n",
      "|   |   |   |   |   |--- feature_8 >  1.02\n",
      "|   |   |   |   |   |   |--- feature_6 <= -0.56\n",
      "|   |   |   |   |   |   |   |--- feature_10 <= 0.02\n",
      "|   |   |   |   |   |   |   |   |--- class: 2.0\n",
      "|   |   |   |   |   |   |   |--- feature_10 >  0.02\n",
      "|   |   |   |   |   |   |   |   |--- feature_1 <= 1.75\n",
      "|   |   |   |   |   |   |   |   |   |--- class: 3.0\n",
      "|   |   |   |   |   |   |   |   |--- feature_1 >  1.75\n",
      "|   |   |   |   |   |   |   |   |   |--- class: 2.0\n",
      "|   |   |   |   |   |   |--- feature_6 >  -0.56\n",
      "|   |   |   |   |   |   |   |--- class: 1.0\n",
      "|   |   |   |   |--- feature_2 >  -0.20\n",
      "|   |   |   |   |   |--- feature_10 <= 1.04\n",
      "|   |   |   |   |   |   |--- feature_3 <= -0.53\n",
      "|   |   |   |   |   |   |   |--- feature_10 <= -0.99\n",
      "|   |   |   |   |   |   |   |   |--- feature_3 <= -0.82\n",
      "|   |   |   |   |   |   |   |   |   |--- feature_4 <= -0.98\n",
      "|   |   |   |   |   |   |   |   |   |   |--- class: 2.0\n",
      "|   |   |   |   |   |   |   |   |   |--- feature_4 >  -0.98\n",
      "|   |   |   |   |   |   |   |   |   |   |--- class: 3.0\n",
      "|   |   |   |   |   |   |   |   |--- feature_3 >  -0.82\n",
      "|   |   |   |   |   |   |   |   |   |--- class: 2.0\n",
      "|   |   |   |   |   |   |   |--- feature_10 >  -0.99\n",
      "|   |   |   |   |   |   |   |   |--- class: 1.0\n",
      "|   |   |   |   |   |   |--- feature_3 >  -0.53\n",
      "|   |   |   |   |   |   |   |--- feature_2 <= 0.46\n",
      "|   |   |   |   |   |   |   |   |--- feature_1 <= 1.17\n",
      "|   |   |   |   |   |   |   |   |   |--- class: 2.0\n",
      "|   |   |   |   |   |   |   |   |--- feature_1 >  1.17\n",
      "|   |   |   |   |   |   |   |   |   |--- feature_2 <= 0.17\n",
      "|   |   |   |   |   |   |   |   |   |   |--- class: 1.0\n",
      "|   |   |   |   |   |   |   |   |   |--- feature_2 >  0.17\n",
      "|   |   |   |   |   |   |   |   |   |   |--- feature_7 <= -0.65\n",
      "|   |   |   |   |   |   |   |   |   |   |   |--- class: 3.0\n",
      "|   |   |   |   |   |   |   |   |   |   |--- feature_7 >  -0.65\n",
      "|   |   |   |   |   |   |   |   |   |   |   |--- class: 2.0\n",
      "|   |   |   |   |   |   |   |--- feature_2 >  0.46\n",
      "|   |   |   |   |   |   |   |   |--- feature_1 <= 1.80\n",
      "|   |   |   |   |   |   |   |   |   |--- class: 2.0\n",
      "|   |   |   |   |   |   |   |   |--- feature_1 >  1.80\n",
      "|   |   |   |   |   |   |   |   |   |--- feature_5 <= 0.16\n",
      "|   |   |   |   |   |   |   |   |   |   |--- feature_2 <= 1.66\n",
      "|   |   |   |   |   |   |   |   |   |   |   |--- class: 3.0\n",
      "|   |   |   |   |   |   |   |   |   |   |--- feature_2 >  1.66\n",
      "|   |   |   |   |   |   |   |   |   |   |   |--- class: 2.0\n",
      "|   |   |   |   |   |   |   |   |   |--- feature_5 >  0.16\n",
      "|   |   |   |   |   |   |   |   |   |   |--- class: 2.0\n",
      "|   |   |   |   |   |--- feature_10 >  1.04\n",
      "|   |   |   |   |   |   |--- feature_2 <= 0.41\n",
      "|   |   |   |   |   |   |   |--- feature_7 <= -0.65\n",
      "|   |   |   |   |   |   |   |   |--- class: 2.0\n",
      "|   |   |   |   |   |   |   |--- feature_7 >  -0.65\n",
      "|   |   |   |   |   |   |   |   |--- class: 1.0\n",
      "|   |   |   |   |   |   |--- feature_2 >  0.41\n",
      "|   |   |   |   |   |   |   |--- class: 1.0\n",
      "|   |   |   |--- feature_1 >  1.86\n",
      "|   |   |   |   |--- feature_10 <= -0.31\n",
      "|   |   |   |   |   |--- class: 3.0\n",
      "|   |   |   |   |--- feature_10 >  -0.31\n",
      "|   |   |   |   |   |--- feature_9 <= -1.15\n",
      "|   |   |   |   |   |   |--- class: 1.0\n",
      "|   |   |   |   |   |--- feature_9 >  -1.15\n",
      "|   |   |   |   |   |   |--- class: 3.0\n",
      "|   |--- feature_2 >  3.09\n",
      "|   |   |--- feature_10 <= 0.19\n",
      "|   |   |   |--- class: 3.0\n",
      "|   |   |--- feature_10 >  0.19\n",
      "|   |   |   |--- feature_10 <= 0.70\n",
      "|   |   |   |   |--- class: 1.0\n",
      "|   |   |   |--- feature_10 >  0.70\n",
      "|   |   |   |   |--- class: 3.0\n",
      "|--- feature_9 >  -0.87\n",
      "|   |--- feature_3 <= -1.75\n",
      "|   |   |--- feature_8 <= -1.85\n",
      "|   |   |   |--- feature_1 <= 1.08\n",
      "|   |   |   |   |--- class: 1.0\n",
      "|   |   |   |--- feature_1 >  1.08\n",
      "|   |   |   |   |--- class: 3.0\n",
      "|   |   |--- feature_8 >  -1.85\n",
      "|   |   |   |--- feature_1 <= -1.28\n",
      "|   |   |   |   |--- feature_9 <= 2.88\n",
      "|   |   |   |   |   |--- class: 1.0\n",
      "|   |   |   |   |--- feature_9 >  2.88\n",
      "|   |   |   |   |   |--- class: 2.0\n",
      "|   |   |   |--- feature_1 >  -1.28\n",
      "|   |   |   |   |--- feature_5 <= -1.04\n",
      "|   |   |   |   |   |--- class: 3.0\n",
      "|   |   |   |   |--- feature_5 >  -1.04\n",
      "|   |   |   |   |   |--- feature_10 <= -0.15\n",
      "|   |   |   |   |   |   |--- class: 3.0\n",
      "|   |   |   |   |   |--- feature_10 >  -0.15\n",
      "|   |   |   |   |   |   |--- class: 1.0\n",
      "|   |--- feature_3 >  -1.75\n",
      "|   |   |--- feature_0 <= 2.22\n",
      "|   |   |   |--- feature_8 <= 1.43\n",
      "|   |   |   |   |--- feature_2 <= -0.20\n",
      "|   |   |   |   |   |--- feature_4 <= -2.15\n",
      "|   |   |   |   |   |   |--- feature_9 <= 0.03\n",
      "|   |   |   |   |   |   |   |--- feature_5 <= -0.70\n",
      "|   |   |   |   |   |   |   |   |--- class: 3.0\n",
      "|   |   |   |   |   |   |   |--- feature_5 >  -0.70\n",
      "|   |   |   |   |   |   |   |   |--- class: 2.0\n",
      "|   |   |   |   |   |   |--- feature_9 >  0.03\n",
      "|   |   |   |   |   |   |   |--- class: 1.0\n",
      "|   |   |   |   |   |--- feature_4 >  -2.15\n",
      "|   |   |   |   |   |   |--- feature_3 <= 1.20\n",
      "|   |   |   |   |   |   |   |--- feature_7 <= 1.94\n",
      "|   |   |   |   |   |   |   |   |--- feature_9 <= -0.76\n",
      "|   |   |   |   |   |   |   |   |   |--- feature_1 <= 0.71\n",
      "|   |   |   |   |   |   |   |   |   |   |--- class: 1.0\n",
      "|   |   |   |   |   |   |   |   |   |--- feature_1 >  0.71\n",
      "|   |   |   |   |   |   |   |   |   |   |--- feature_1 <= 0.85\n",
      "|   |   |   |   |   |   |   |   |   |   |   |--- truncated branch of depth 2\n",
      "|   |   |   |   |   |   |   |   |   |   |--- feature_1 >  0.85\n",
      "|   |   |   |   |   |   |   |   |   |   |   |--- class: 1.0\n",
      "|   |   |   |   |   |   |   |   |--- feature_9 >  -0.76\n",
      "|   |   |   |   |   |   |   |   |   |--- feature_7 <= 1.29\n",
      "|   |   |   |   |   |   |   |   |   |   |--- class: 1.0\n",
      "|   |   |   |   |   |   |   |   |   |--- feature_7 >  1.29\n",
      "|   |   |   |   |   |   |   |   |   |   |--- feature_10 <= -1.33\n",
      "|   |   |   |   |   |   |   |   |   |   |   |--- truncated branch of depth 2\n",
      "|   |   |   |   |   |   |   |   |   |   |--- feature_10 >  -1.33\n",
      "|   |   |   |   |   |   |   |   |   |   |   |--- class: 1.0\n",
      "|   |   |   |   |   |   |   |--- feature_7 >  1.94\n",
      "|   |   |   |   |   |   |   |   |--- feature_6 <= -0.69\n",
      "|   |   |   |   |   |   |   |   |   |--- feature_3 <= -1.33\n",
      "|   |   |   |   |   |   |   |   |   |   |--- class: 3.0\n",
      "|   |   |   |   |   |   |   |   |   |--- feature_3 >  -1.33\n",
      "|   |   |   |   |   |   |   |   |   |   |--- feature_10 <= -0.48\n",
      "|   |   |   |   |   |   |   |   |   |   |   |--- class: 2.0\n",
      "|   |   |   |   |   |   |   |   |   |   |--- feature_10 >  -0.48\n",
      "|   |   |   |   |   |   |   |   |   |   |   |--- class: 1.0\n",
      "|   |   |   |   |   |   |   |   |--- feature_6 >  -0.69\n",
      "|   |   |   |   |   |   |   |   |   |--- feature_7 <= 2.10\n",
      "|   |   |   |   |   |   |   |   |   |   |--- feature_8 <= -0.19\n",
      "|   |   |   |   |   |   |   |   |   |   |   |--- class: 1.0\n",
      "|   |   |   |   |   |   |   |   |   |   |--- feature_8 >  -0.19\n",
      "|   |   |   |   |   |   |   |   |   |   |   |--- class: 2.0\n",
      "|   |   |   |   |   |   |   |   |   |--- feature_7 >  2.10\n",
      "|   |   |   |   |   |   |   |   |   |   |--- class: 1.0\n",
      "|   |   |   |   |   |   |--- feature_3 >  1.20\n",
      "|   |   |   |   |   |   |   |--- feature_6 <= -0.18\n",
      "|   |   |   |   |   |   |   |   |--- feature_2 <= -0.52\n",
      "|   |   |   |   |   |   |   |   |   |--- class: 2.0\n",
      "|   |   |   |   |   |   |   |   |--- feature_2 >  -0.52\n",
      "|   |   |   |   |   |   |   |   |   |--- feature_2 <= -0.47\n",
      "|   |   |   |   |   |   |   |   |   |   |--- feature_9 <= -0.64\n",
      "|   |   |   |   |   |   |   |   |   |   |   |--- class: 2.0\n",
      "|   |   |   |   |   |   |   |   |   |   |--- feature_9 >  -0.64\n",
      "|   |   |   |   |   |   |   |   |   |   |   |--- class: 1.0\n",
      "|   |   |   |   |   |   |   |   |   |--- feature_2 >  -0.47\n",
      "|   |   |   |   |   |   |   |   |   |   |--- class: 2.0\n",
      "|   |   |   |   |   |   |   |--- feature_6 >  -0.18\n",
      "|   |   |   |   |   |   |   |   |--- feature_7 <= -0.61\n",
      "|   |   |   |   |   |   |   |   |   |--- class: 2.0\n",
      "|   |   |   |   |   |   |   |   |--- feature_7 >  -0.61\n",
      "|   |   |   |   |   |   |   |   |   |--- class: 1.0\n",
      "|   |   |   |   |--- feature_2 >  -0.20\n",
      "|   |   |   |   |   |--- feature_3 <= 0.56\n",
      "|   |   |   |   |   |   |--- feature_2 <= 0.86\n",
      "|   |   |   |   |   |   |   |--- class: 1.0\n",
      "|   |   |   |   |   |   |--- feature_2 >  0.86\n",
      "|   |   |   |   |   |   |   |--- feature_10 <= -0.99\n",
      "|   |   |   |   |   |   |   |   |--- feature_1 <= 0.16\n",
      "|   |   |   |   |   |   |   |   |   |--- class: 1.0\n",
      "|   |   |   |   |   |   |   |   |--- feature_1 >  0.16\n",
      "|   |   |   |   |   |   |   |   |   |--- feature_5 <= 0.34\n",
      "|   |   |   |   |   |   |   |   |   |   |--- class: 2.0\n",
      "|   |   |   |   |   |   |   |   |   |--- feature_5 >  0.34\n",
      "|   |   |   |   |   |   |   |   |   |   |--- class: 1.0\n",
      "|   |   |   |   |   |   |   |--- feature_10 >  -0.99\n",
      "|   |   |   |   |   |   |   |   |--- feature_8 <= -0.19\n",
      "|   |   |   |   |   |   |   |   |   |--- class: 1.0\n",
      "|   |   |   |   |   |   |   |   |--- feature_8 >  -0.19\n",
      "|   |   |   |   |   |   |   |   |   |--- feature_8 <= 0.11\n",
      "|   |   |   |   |   |   |   |   |   |   |--- feature_1 <= 1.66\n",
      "|   |   |   |   |   |   |   |   |   |   |   |--- class: 2.0\n",
      "|   |   |   |   |   |   |   |   |   |   |--- feature_1 >  1.66\n",
      "|   |   |   |   |   |   |   |   |   |   |   |--- class: 1.0\n",
      "|   |   |   |   |   |   |   |   |   |--- feature_8 >  0.11\n",
      "|   |   |   |   |   |   |   |   |   |   |--- feature_2 <= 2.61\n",
      "|   |   |   |   |   |   |   |   |   |   |   |--- class: 1.0\n",
      "|   |   |   |   |   |   |   |   |   |   |--- feature_2 >  2.61\n",
      "|   |   |   |   |   |   |   |   |   |   |   |--- class: 2.0\n",
      "|   |   |   |   |   |--- feature_3 >  0.56\n",
      "|   |   |   |   |   |   |--- feature_1 <= -0.04\n",
      "|   |   |   |   |   |   |   |--- feature_8 <= 0.77\n",
      "|   |   |   |   |   |   |   |   |--- feature_1 <= -0.22\n",
      "|   |   |   |   |   |   |   |   |   |--- class: 2.0\n",
      "|   |   |   |   |   |   |   |   |--- feature_1 >  -0.22\n",
      "|   |   |   |   |   |   |   |   |   |--- feature_6 <= -0.69\n",
      "|   |   |   |   |   |   |   |   |   |   |--- class: 2.0\n",
      "|   |   |   |   |   |   |   |   |   |--- feature_6 >  -0.69\n",
      "|   |   |   |   |   |   |   |   |   |   |--- class: 1.0\n",
      "|   |   |   |   |   |   |   |--- feature_8 >  0.77\n",
      "|   |   |   |   |   |   |   |   |--- class: 1.0\n",
      "|   |   |   |   |   |   |--- feature_1 >  -0.04\n",
      "|   |   |   |   |   |   |   |--- feature_10 <= 0.36\n",
      "|   |   |   |   |   |   |   |   |--- feature_3 <= 0.88\n",
      "|   |   |   |   |   |   |   |   |   |--- feature_5 <= 0.65\n",
      "|   |   |   |   |   |   |   |   |   |   |--- feature_1 <= 0.62\n",
      "|   |   |   |   |   |   |   |   |   |   |   |--- truncated branch of depth 2\n",
      "|   |   |   |   |   |   |   |   |   |   |--- feature_1 >  0.62\n",
      "|   |   |   |   |   |   |   |   |   |   |   |--- class: 2.0\n",
      "|   |   |   |   |   |   |   |   |   |--- feature_5 >  0.65\n",
      "|   |   |   |   |   |   |   |   |   |   |--- class: 1.0\n",
      "|   |   |   |   |   |   |   |   |--- feature_3 >  0.88\n",
      "|   |   |   |   |   |   |   |   |   |--- feature_5 <= 1.27\n",
      "|   |   |   |   |   |   |   |   |   |   |--- class: 2.0\n",
      "|   |   |   |   |   |   |   |   |   |--- feature_5 >  1.27\n",
      "|   |   |   |   |   |   |   |   |   |   |--- feature_3 <= 1.40\n",
      "|   |   |   |   |   |   |   |   |   |   |   |--- class: 1.0\n",
      "|   |   |   |   |   |   |   |   |   |   |--- feature_3 >  1.40\n",
      "|   |   |   |   |   |   |   |   |   |   |   |--- class: 2.0\n",
      "|   |   |   |   |   |   |   |--- feature_10 >  0.36\n",
      "|   |   |   |   |   |   |   |   |--- class: 1.0\n",
      "|   |   |   |--- feature_8 >  1.43\n",
      "|   |   |   |   |--- feature_6 <= -0.18\n",
      "|   |   |   |   |   |--- feature_9 <= -0.53\n",
      "|   |   |   |   |   |   |--- feature_10 <= 1.04\n",
      "|   |   |   |   |   |   |   |--- feature_2 <= 2.75\n",
      "|   |   |   |   |   |   |   |   |--- feature_1 <= 1.08\n",
      "|   |   |   |   |   |   |   |   |   |--- class: 1.0\n",
      "|   |   |   |   |   |   |   |   |--- feature_1 >  1.08\n",
      "|   |   |   |   |   |   |   |   |   |--- class: 2.0\n",
      "|   |   |   |   |   |   |   |--- feature_2 >  2.75\n",
      "|   |   |   |   |   |   |   |   |--- feature_2 <= 3.12\n",
      "|   |   |   |   |   |   |   |   |   |--- class: 2.0\n",
      "|   |   |   |   |   |   |   |   |--- feature_2 >  3.12\n",
      "|   |   |   |   |   |   |   |   |   |--- class: 3.0\n",
      "|   |   |   |   |   |   |--- feature_10 >  1.04\n",
      "|   |   |   |   |   |   |   |--- class: 2.0\n",
      "|   |   |   |   |   |--- feature_9 >  -0.53\n",
      "|   |   |   |   |   |   |--- feature_1 <= 0.28\n",
      "|   |   |   |   |   |   |   |--- feature_5 <= 1.34\n",
      "|   |   |   |   |   |   |   |   |--- feature_8 <= 1.63\n",
      "|   |   |   |   |   |   |   |   |   |--- class: 1.0\n",
      "|   |   |   |   |   |   |   |   |--- feature_8 >  1.63\n",
      "|   |   |   |   |   |   |   |   |   |--- feature_7 <= -0.29\n",
      "|   |   |   |   |   |   |   |   |   |   |--- class: 1.0\n",
      "|   |   |   |   |   |   |   |   |   |--- feature_7 >  -0.29\n",
      "|   |   |   |   |   |   |   |   |   |   |--- class: 2.0\n",
      "|   |   |   |   |   |   |   |--- feature_5 >  1.34\n",
      "|   |   |   |   |   |   |   |   |--- class: 2.0\n",
      "|   |   |   |   |   |   |--- feature_1 >  0.28\n",
      "|   |   |   |   |   |   |   |--- class: 2.0\n",
      "|   |   |   |   |--- feature_6 >  -0.18\n",
      "|   |   |   |   |   |--- class: 1.0\n",
      "|   |   |--- feature_0 >  2.22\n",
      "|   |   |   |--- feature_9 <= 0.14\n",
      "|   |   |   |   |--- feature_4 <= -0.06\n",
      "|   |   |   |   |   |--- feature_5 <= -1.42\n",
      "|   |   |   |   |   |   |--- class: 2.0\n",
      "|   |   |   |   |   |--- feature_5 >  -1.42\n",
      "|   |   |   |   |   |   |--- class: 1.0\n",
      "|   |   |   |   |--- feature_4 >  -0.06\n",
      "|   |   |   |   |   |--- class: 2.0\n",
      "|   |   |   |--- feature_9 >  0.14\n",
      "|   |   |   |   |--- feature_8 <= -0.39\n",
      "|   |   |   |   |   |--- feature_1 <= -1.11\n",
      "|   |   |   |   |   |   |--- class: 1.0\n",
      "|   |   |   |   |   |--- feature_1 >  -1.11\n",
      "|   |   |   |   |   |   |--- class: 2.0\n",
      "|   |   |   |   |--- feature_8 >  -0.39\n",
      "|   |   |   |   |   |--- feature_4 <= -0.31\n",
      "|   |   |   |   |   |   |--- class: 3.0\n",
      "|   |   |   |   |   |--- feature_4 >  -0.31\n",
      "|   |   |   |   |   |   |--- feature_7 <= 1.04\n",
      "|   |   |   |   |   |   |   |--- class: 2.0\n",
      "|   |   |   |   |   |   |--- feature_7 >  1.04\n",
      "|   |   |   |   |   |   |   |--- feature_8 <= 0.16\n",
      "|   |   |   |   |   |   |   |   |--- feature_4 <= 0.15\n",
      "|   |   |   |   |   |   |   |   |   |--- class: 3.0\n",
      "|   |   |   |   |   |   |   |   |--- feature_4 >  0.15\n",
      "|   |   |   |   |   |   |   |   |   |--- class: 1.0\n",
      "|   |   |   |   |   |   |   |--- feature_8 >  0.16\n",
      "|   |   |   |   |   |   |   |   |--- class: 1.0\n",
      "\n"
     ]
    }
   ],
   "source": [
    "from sklearn import tree\n",
    "text_representation = tree.export_text(dt)\n",
    "print(text_representation)"
   ]
  },
  {
   "cell_type": "code",
   "execution_count": 65,
   "id": "26cb6bba",
   "metadata": {},
   "outputs": [],
   "source": [
    "y_pred=dt.predict(xtest)"
   ]
  },
  {
   "cell_type": "code",
   "execution_count": 66,
   "id": "af8b1e75",
   "metadata": {},
   "outputs": [
    {
     "data": {
      "text/plain": [
       "0.9314420803782506"
      ]
     },
     "execution_count": 66,
     "metadata": {},
     "output_type": "execute_result"
    }
   ],
   "source": [
    "accuracy_score(ytest, y_pred)"
   ]
  },
  {
   "cell_type": "code",
   "execution_count": 67,
   "id": "fe4e4e98",
   "metadata": {},
   "outputs": [
    {
     "name": "stdout",
     "output_type": "stream",
     "text": [
      "Confusion Matrix : \n",
      " [[327  11   3]\n",
      " [ 15  39   0]\n",
      " [  0   0  28]]\n"
     ]
    }
   ],
   "source": [
    "cm = confusion_matrix(ytest, y_pred)\n",
    " \n",
    "print (\"Confusion Matrix : \\n\", cm)"
   ]
  },
  {
   "cell_type": "code",
   "execution_count": 68,
   "id": "8af9d8c4",
   "metadata": {},
   "outputs": [],
   "source": [
    "data1.append('Decision tree')\n",
    "data2.append(accuracy_score(ytest, y_pred))"
   ]
  },
  {
   "cell_type": "code",
   "execution_count": 69,
   "id": "52582e6a",
   "metadata": {},
   "outputs": [
    {
     "data": {
      "text/plain": [
       "['Logistic Regression',\n",
       " 'Random Forest',\n",
       " 'KNN',\n",
       " 'support vector',\n",
       " 'Linear SVC',\n",
       " 'Decision tree']"
      ]
     },
     "execution_count": 69,
     "metadata": {},
     "output_type": "execute_result"
    }
   ],
   "source": [
    "data1"
   ]
  },
  {
   "cell_type": "code",
   "execution_count": 70,
   "id": "28abde63",
   "metadata": {},
   "outputs": [
    {
     "data": {
      "text/plain": [
       "[0.9054373522458629,\n",
       " 0.9645390070921985,\n",
       " 0.9479905437352246,\n",
       " 0.9290780141843972,\n",
       " 0.9219858156028369,\n",
       " 0.9314420803782506]"
      ]
     },
     "execution_count": 70,
     "metadata": {},
     "output_type": "execute_result"
    }
   ],
   "source": [
    "data2"
   ]
  },
  {
   "cell_type": "code",
   "execution_count": 71,
   "id": "9571b135",
   "metadata": {},
   "outputs": [],
   "source": [
    "from sklearn.neural_network import MLPClassifier"
   ]
  },
  {
   "cell_type": "code",
   "execution_count": 72,
   "id": "350fa4ad",
   "metadata": {},
   "outputs": [
    {
     "name": "stdout",
     "output_type": "stream",
     "text": [
      "Iteration 1, loss = 0.52589312\n",
      "Iteration 2, loss = 0.27386281\n",
      "Iteration 3, loss = 0.23370244\n",
      "Iteration 4, loss = 0.20918917\n",
      "Iteration 5, loss = 0.19711214\n",
      "Iteration 6, loss = 0.18308761\n",
      "Iteration 7, loss = 0.17384253\n",
      "Iteration 8, loss = 0.17628402\n",
      "Iteration 9, loss = 0.15727266\n",
      "Iteration 10, loss = 0.13941929\n",
      "Iteration 11, loss = 0.15166704\n",
      "Iteration 12, loss = 0.14696873\n",
      "Iteration 13, loss = 0.16671277\n",
      "Iteration 14, loss = 0.15088715\n",
      "Iteration 15, loss = 0.13788809\n",
      "Iteration 16, loss = 0.14153596\n",
      "Iteration 17, loss = 0.13385624\n",
      "Iteration 18, loss = 0.13003401\n",
      "Iteration 19, loss = 0.12597775\n",
      "Iteration 20, loss = 0.14757093\n",
      "Iteration 21, loss = 0.12147701\n",
      "Iteration 22, loss = 0.12654115\n",
      "Iteration 23, loss = 0.11897241\n",
      "Iteration 24, loss = 0.12587620\n",
      "Iteration 25, loss = 0.10985827\n",
      "Iteration 26, loss = 0.11176333\n",
      "Iteration 27, loss = 0.10381719\n",
      "Iteration 28, loss = 0.10875917\n",
      "Iteration 29, loss = 0.10579249\n",
      "Iteration 30, loss = 0.09868355\n",
      "Iteration 31, loss = 0.09004623\n",
      "Iteration 32, loss = 0.08579294\n",
      "Iteration 33, loss = 0.08272142\n",
      "Iteration 34, loss = 0.08509220\n",
      "Iteration 35, loss = 0.07780826\n",
      "Iteration 36, loss = 0.08710030\n",
      "Iteration 37, loss = 0.08335960\n",
      "Iteration 38, loss = 0.08459596\n",
      "Iteration 39, loss = 0.09529122\n",
      "Iteration 40, loss = 0.07958194\n",
      "Iteration 41, loss = 0.07417593\n",
      "Iteration 42, loss = 0.07529367\n",
      "Iteration 43, loss = 0.06611701\n",
      "Iteration 44, loss = 0.06420259\n",
      "Iteration 45, loss = 0.05991859\n",
      "Iteration 46, loss = 0.05367329\n",
      "Iteration 47, loss = 0.05145401\n",
      "Iteration 48, loss = 0.05609244\n",
      "Iteration 49, loss = 0.06621792\n",
      "Iteration 50, loss = 0.07911274\n",
      "Iteration 51, loss = 0.10359344\n",
      "Iteration 52, loss = 0.11930646\n",
      "Iteration 53, loss = 0.09615856\n",
      "Iteration 54, loss = 0.08000402\n",
      "Iteration 55, loss = 0.06156646\n",
      "Iteration 56, loss = 0.06451169\n",
      "Iteration 57, loss = 0.06110803\n",
      "Iteration 58, loss = 0.05876197\n",
      "Training loss did not improve more than tol=0.000100 for 10 consecutive epochs. Stopping.\n"
     ]
    },
    {
     "data": {
      "text/plain": [
       "MLPClassifier(hidden_layer_sizes=(1000, 100), learning_rate_init=0.005,\n",
       "              random_state=5, verbose=True)"
      ]
     },
     "execution_count": 72,
     "metadata": {},
     "output_type": "execute_result"
    }
   ],
   "source": [
    "mlp = MLPClassifier(hidden_layer_sizes=(1000,100),\n",
    "                    random_state=5,\n",
    "                    verbose=True,\n",
    "                    learning_rate_init=0.005)\n",
    "\n",
    "# Fit data onto the model\n",
    "mlp.fit(xtrain,ytrain)"
   ]
  },
  {
   "cell_type": "code",
   "execution_count": 73,
   "id": "8f364a32",
   "metadata": {},
   "outputs": [],
   "source": [
    "y_pred=mlp.predict(xtest)"
   ]
  },
  {
   "cell_type": "code",
   "execution_count": 74,
   "id": "6e5a4e88",
   "metadata": {},
   "outputs": [
    {
     "data": {
      "text/plain": [
       "0.966903073286052"
      ]
     },
     "execution_count": 74,
     "metadata": {},
     "output_type": "execute_result"
    }
   ],
   "source": [
    "accuracy_score(ytest, y_pred)"
   ]
  },
  {
   "cell_type": "code",
   "execution_count": 75,
   "id": "bb083a62",
   "metadata": {},
   "outputs": [
    {
     "name": "stdout",
     "output_type": "stream",
     "text": [
      "Confusion Matrix : \n",
      " [[337   4   0]\n",
      " [  8  46   0]\n",
      " [  1   1  26]]\n"
     ]
    }
   ],
   "source": [
    "cm = confusion_matrix(ytest, y_pred)\n",
    " \n",
    "print (\"Confusion Matrix : \\n\", cm)"
   ]
  },
  {
   "cell_type": "code",
   "execution_count": 76,
   "id": "04a32207",
   "metadata": {},
   "outputs": [],
   "source": [
    "data1.append('MLP')\n",
    "data2.append(accuracy_score(ytest, y_pred))"
   ]
  },
  {
   "cell_type": "code",
   "execution_count": 77,
   "id": "739b6c8d",
   "metadata": {},
   "outputs": [
    {
     "data": {
      "text/plain": [
       "['Logistic Regression',\n",
       " 'Random Forest',\n",
       " 'KNN',\n",
       " 'support vector',\n",
       " 'Linear SVC',\n",
       " 'Decision tree',\n",
       " 'MLP']"
      ]
     },
     "execution_count": 77,
     "metadata": {},
     "output_type": "execute_result"
    }
   ],
   "source": [
    "data1"
   ]
  },
  {
   "cell_type": "code",
   "execution_count": 78,
   "id": "bb058304",
   "metadata": {},
   "outputs": [
    {
     "data": {
      "text/plain": [
       "[0.9054373522458629,\n",
       " 0.9645390070921985,\n",
       " 0.9479905437352246,\n",
       " 0.9290780141843972,\n",
       " 0.9219858156028369,\n",
       " 0.9314420803782506,\n",
       " 0.966903073286052]"
      ]
     },
     "execution_count": 78,
     "metadata": {},
     "output_type": "execute_result"
    }
   ],
   "source": [
    "data2"
   ]
  },
  {
   "cell_type": "code",
   "execution_count": 79,
   "id": "3a7071a2",
   "metadata": {},
   "outputs": [],
   "source": [
    "from sklearn.ensemble import GradientBoostingClassifier"
   ]
  },
  {
   "cell_type": "code",
   "execution_count": 80,
   "id": "011bfd0e",
   "metadata": {},
   "outputs": [
    {
     "data": {
      "text/plain": [
       "0.9645390070921985"
      ]
     },
     "execution_count": 80,
     "metadata": {},
     "output_type": "execute_result"
    }
   ],
   "source": [
    "gb = GradientBoostingClassifier(learning_rate=0.1)\n",
    "gb.fit(xtrain,ytrain)\n",
    "y_pred=gb.predict(xtest)\n",
    "accuracy_score(ytest,y_pred)"
   ]
  },
  {
   "cell_type": "code",
   "execution_count": 81,
   "id": "e4cac611",
   "metadata": {},
   "outputs": [
    {
     "name": "stdout",
     "output_type": "stream",
     "text": [
      "Confusion Matrix : \n",
      " [[337   3   1]\n",
      " [ 11  43   0]\n",
      " [  0   0  28]]\n"
     ]
    }
   ],
   "source": [
    "cm = confusion_matrix(ytest, y_pred)\n",
    " \n",
    "print (\"Confusion Matrix : \\n\", cm)"
   ]
  },
  {
   "cell_type": "code",
   "execution_count": 82,
   "id": "a8160aa3",
   "metadata": {},
   "outputs": [],
   "source": [
    "gb = GradientBoostingClassifier(learning_rate=0.15)"
   ]
  },
  {
   "cell_type": "code",
   "execution_count": 83,
   "id": "f6751e50",
   "metadata": {},
   "outputs": [
    {
     "data": {
      "text/plain": [
       "GradientBoostingClassifier(learning_rate=0.15)"
      ]
     },
     "execution_count": 83,
     "metadata": {},
     "output_type": "execute_result"
    }
   ],
   "source": [
    "gb.fit(xtrain,ytrain)"
   ]
  },
  {
   "cell_type": "code",
   "execution_count": 84,
   "id": "e8753854",
   "metadata": {},
   "outputs": [],
   "source": [
    "y_pred=gb.predict(xtest)"
   ]
  },
  {
   "cell_type": "code",
   "execution_count": 85,
   "id": "a3bf6ca6",
   "metadata": {},
   "outputs": [
    {
     "data": {
      "text/plain": [
       "0.9716312056737588"
      ]
     },
     "execution_count": 85,
     "metadata": {},
     "output_type": "execute_result"
    }
   ],
   "source": [
    "accuracy_score(ytest,y_pred)"
   ]
  },
  {
   "cell_type": "code",
   "execution_count": 86,
   "id": "52133555",
   "metadata": {},
   "outputs": [
    {
     "name": "stdout",
     "output_type": "stream",
     "text": [
      "Confusion Matrix : \n",
      " [[338   2   1]\n",
      " [  9  45   0]\n",
      " [  0   0  28]]\n"
     ]
    }
   ],
   "source": [
    "cm = confusion_matrix(ytest, y_pred)\n",
    " \n",
    "print (\"Confusion Matrix : \\n\", cm)"
   ]
  },
  {
   "cell_type": "code",
   "execution_count": 87,
   "id": "d033ea6c",
   "metadata": {},
   "outputs": [
    {
     "data": {
      "text/plain": [
       "0.9598108747044918"
      ]
     },
     "execution_count": 87,
     "metadata": {},
     "output_type": "execute_result"
    }
   ],
   "source": [
    "gb = GradientBoostingClassifier(learning_rate=1)\n",
    "gb.fit(xtrain,ytrain)\n",
    "y_pred=gb.predict(xtest)\n",
    "accuracy_score(ytest,y_pred)"
   ]
  },
  {
   "cell_type": "code",
   "execution_count": 88,
   "id": "cf7dd432",
   "metadata": {},
   "outputs": [],
   "source": [
    "data1.append('GradientBoosting')\n",
    "data2.append(accuracy_score(ytest,y_pred))"
   ]
  },
  {
   "cell_type": "code",
   "execution_count": 89,
   "id": "446e0611",
   "metadata": {},
   "outputs": [
    {
     "data": {
      "text/plain": [
       "['Logistic Regression',\n",
       " 'Random Forest',\n",
       " 'KNN',\n",
       " 'support vector',\n",
       " 'Linear SVC',\n",
       " 'Decision tree',\n",
       " 'MLP',\n",
       " 'GradientBoosting']"
      ]
     },
     "execution_count": 89,
     "metadata": {},
     "output_type": "execute_result"
    }
   ],
   "source": [
    "data1"
   ]
  },
  {
   "cell_type": "code",
   "execution_count": 90,
   "id": "d7140244",
   "metadata": {},
   "outputs": [
    {
     "data": {
      "text/plain": [
       "[0.9054373522458629,\n",
       " 0.9645390070921985,\n",
       " 0.9479905437352246,\n",
       " 0.9290780141843972,\n",
       " 0.9219858156028369,\n",
       " 0.9314420803782506,\n",
       " 0.966903073286052,\n",
       " 0.9598108747044918]"
      ]
     },
     "execution_count": 90,
     "metadata": {},
     "output_type": "execute_result"
    }
   ],
   "source": [
    "data2"
   ]
  },
  {
   "cell_type": "code",
   "execution_count": 91,
   "id": "877047af",
   "metadata": {},
   "outputs": [
    {
     "name": "stdout",
     "output_type": "stream",
     "text": [
      "0:\tlearn: 0.4250930\ttotal: 371ms\tremaining: 4.08s\n",
      "1:\tlearn: 0.3100112\ttotal: 457ms\tremaining: 2.29s\n",
      "2:\tlearn: 0.2429191\ttotal: 501ms\tremaining: 1.5s\n",
      "3:\tlearn: 0.1837667\ttotal: 537ms\tremaining: 1.07s\n",
      "4:\tlearn: 0.1606941\ttotal: 574ms\tremaining: 803ms\n",
      "5:\tlearn: 0.1481189\ttotal: 613ms\tremaining: 613ms\n",
      "6:\tlearn: 0.1332786\ttotal: 658ms\tremaining: 470ms\n",
      "7:\tlearn: 0.1179839\ttotal: 739ms\tremaining: 370ms\n",
      "8:\tlearn: 0.1102636\ttotal: 814ms\tremaining: 271ms\n",
      "9:\tlearn: 0.0978338\ttotal: 898ms\tremaining: 180ms\n",
      "10:\tlearn: 0.0900064\ttotal: 954ms\tremaining: 86.7ms\n",
      "11:\tlearn: 0.0815112\ttotal: 993ms\tremaining: 0us\n"
     ]
    },
    {
     "data": {
      "text/plain": [
       "0.9598108747044918"
      ]
     },
     "execution_count": 91,
     "metadata": {},
     "output_type": "execute_result"
    }
   ],
   "source": [
    "from catboost import CatBoostClassifier\n",
    "model = CatBoostClassifier(iterations=12,\n",
    "                          learning_rate=0.9,\n",
    "                          depth=10)\n",
    "model.fit(xtrain, ytrain)\n",
    "y_pred = model.predict(xtest)\n",
    "accuracy_score(ytest,y_pred)"
   ]
  },
  {
   "cell_type": "code",
   "execution_count": 92,
   "id": "7205dea4",
   "metadata": {},
   "outputs": [
    {
     "name": "stdout",
     "output_type": "stream",
     "text": [
      "Confusion Matrix : \n",
      " [[334   7   0]\n",
      " [ 10  44   0]\n",
      " [  0   0  28]]\n"
     ]
    }
   ],
   "source": [
    "cm = confusion_matrix(ytest, y_pred)\n",
    " \n",
    "print (\"Confusion Matrix : \\n\", cm)"
   ]
  },
  {
   "cell_type": "code",
   "execution_count": 93,
   "id": "acd58de7",
   "metadata": {},
   "outputs": [],
   "source": [
    "data1.append('CatBoostClassifier')\n",
    "data2.append(accuracy_score(ytest,y_pred))"
   ]
  },
  {
   "cell_type": "code",
   "execution_count": 94,
   "id": "e251d884",
   "metadata": {},
   "outputs": [
    {
     "data": {
      "text/plain": [
       "['Logistic Regression',\n",
       " 'Random Forest',\n",
       " 'KNN',\n",
       " 'support vector',\n",
       " 'Linear SVC',\n",
       " 'Decision tree',\n",
       " 'MLP',\n",
       " 'GradientBoosting',\n",
       " 'CatBoostClassifier']"
      ]
     },
     "execution_count": 94,
     "metadata": {},
     "output_type": "execute_result"
    }
   ],
   "source": [
    "data1"
   ]
  },
  {
   "cell_type": "code",
   "execution_count": 95,
   "id": "f62e2d6e",
   "metadata": {},
   "outputs": [
    {
     "data": {
      "text/plain": [
       "[0.9054373522458629,\n",
       " 0.9645390070921985,\n",
       " 0.9479905437352246,\n",
       " 0.9290780141843972,\n",
       " 0.9219858156028369,\n",
       " 0.9314420803782506,\n",
       " 0.966903073286052,\n",
       " 0.9598108747044918,\n",
       " 0.9598108747044918]"
      ]
     },
     "execution_count": 95,
     "metadata": {},
     "output_type": "execute_result"
    }
   ],
   "source": [
    "data2"
   ]
  },
  {
   "cell_type": "code",
   "execution_count": 96,
   "id": "7f8d9914",
   "metadata": {},
   "outputs": [],
   "source": [
    "import lightgbm as ltb"
   ]
  },
  {
   "cell_type": "code",
   "execution_count": 97,
   "id": "0f22c02c",
   "metadata": {},
   "outputs": [
    {
     "data": {
      "text/plain": [
       "0.9763593380614657"
      ]
     },
     "execution_count": 97,
     "metadata": {},
     "output_type": "execute_result"
    }
   ],
   "source": [
    "ltgbm = ltb.LGBMClassifier()\n",
    "ltgbm.fit(xtrain, ytrain)\n",
    "y_pred=ltgbm.predict(xtest)\n",
    "accuracy_score(ytest,y_pred)"
   ]
  },
  {
   "cell_type": "code",
   "execution_count": 98,
   "id": "7f895414",
   "metadata": {},
   "outputs": [
    {
     "name": "stdout",
     "output_type": "stream",
     "text": [
      "Confusion Matrix : \n",
      " [[338   3   0]\n",
      " [  7  47   0]\n",
      " [  0   0  28]]\n"
     ]
    }
   ],
   "source": [
    "cm = confusion_matrix(ytest, y_pred)\n",
    " \n",
    "print (\"Confusion Matrix : \\n\", cm)"
   ]
  },
  {
   "cell_type": "code",
   "execution_count": 99,
   "id": "e627c6c9",
   "metadata": {},
   "outputs": [],
   "source": [
    "data1.append('LightGBM')\n",
    "data2.append(accuracy_score(ytest,y_pred))"
   ]
  },
  {
   "cell_type": "code",
   "execution_count": 100,
   "id": "3e5af698",
   "metadata": {},
   "outputs": [
    {
     "data": {
      "text/plain": [
       "['Logistic Regression',\n",
       " 'Random Forest',\n",
       " 'KNN',\n",
       " 'support vector',\n",
       " 'Linear SVC',\n",
       " 'Decision tree',\n",
       " 'MLP',\n",
       " 'GradientBoosting',\n",
       " 'CatBoostClassifier',\n",
       " 'LightGBM']"
      ]
     },
     "execution_count": 100,
     "metadata": {},
     "output_type": "execute_result"
    }
   ],
   "source": [
    "data1"
   ]
  },
  {
   "cell_type": "code",
   "execution_count": 101,
   "id": "963d1fa5",
   "metadata": {},
   "outputs": [
    {
     "data": {
      "text/plain": [
       "[0.9054373522458629,\n",
       " 0.9645390070921985,\n",
       " 0.9479905437352246,\n",
       " 0.9290780141843972,\n",
       " 0.9219858156028369,\n",
       " 0.9314420803782506,\n",
       " 0.966903073286052,\n",
       " 0.9598108747044918,\n",
       " 0.9598108747044918,\n",
       " 0.9763593380614657]"
      ]
     },
     "execution_count": 101,
     "metadata": {},
     "output_type": "execute_result"
    }
   ],
   "source": [
    "data2"
   ]
  },
  {
   "cell_type": "code",
   "execution_count": 102,
   "id": "f477beb9",
   "metadata": {},
   "outputs": [],
   "source": [
    "import xgboost as xgb"
   ]
  },
  {
   "cell_type": "code",
   "execution_count": 103,
   "id": "eb22668d",
   "metadata": {},
   "outputs": [],
   "source": [
    "clf=xgb.XGBClassifier()"
   ]
  },
  {
   "cell_type": "code",
   "execution_count": 104,
   "id": "475f6040",
   "metadata": {},
   "outputs": [],
   "source": [
    "from sklearn.preprocessing import LabelEncoder\n",
    "le = LabelEncoder()\n",
    "ytrain = le.fit_transform(ytrain)\n",
    "ytest=le.fit_transform(ytest)\n"
   ]
  },
  {
   "cell_type": "code",
   "execution_count": 105,
   "id": "0f4f5fb7",
   "metadata": {},
   "outputs": [
    {
     "data": {
      "text/plain": [
       "0.9645390070921985"
      ]
     },
     "execution_count": 105,
     "metadata": {},
     "output_type": "execute_result"
    }
   ],
   "source": [
    "clf.fit(xtrain, ytrain)\n",
    "y_pred=clf.predict(xtest)\n",
    "accuracy_score(ytest,y_pred)"
   ]
  },
  {
   "cell_type": "code",
   "execution_count": 106,
   "id": "909ba069",
   "metadata": {},
   "outputs": [
    {
     "name": "stdout",
     "output_type": "stream",
     "text": [
      "Confusion Matrix : \n",
      " [[338   3   0]\n",
      " [ 11  43   0]\n",
      " [  0   1  27]]\n"
     ]
    }
   ],
   "source": [
    "cm = confusion_matrix(ytest, y_pred)\n",
    " \n",
    "print (\"Confusion Matrix : \\n\", cm)"
   ]
  },
  {
   "cell_type": "code",
   "execution_count": 107,
   "id": "7e8d6843",
   "metadata": {},
   "outputs": [],
   "source": [
    "data1.append('xgboost')\n",
    "data2.append(accuracy_score(ytest,y_pred))"
   ]
  },
  {
   "cell_type": "code",
   "execution_count": 108,
   "id": "1bf0a483",
   "metadata": {},
   "outputs": [
    {
     "data": {
      "text/plain": [
       "[('Logistic Regression', 0.9054373522458629),\n",
       " ('Random Forest', 0.9645390070921985),\n",
       " ('KNN', 0.9479905437352246),\n",
       " ('support vector', 0.9290780141843972),\n",
       " ('Linear SVC', 0.9219858156028369),\n",
       " ('Decision tree', 0.9314420803782506),\n",
       " ('MLP', 0.966903073286052),\n",
       " ('GradientBoosting', 0.9598108747044918),\n",
       " ('CatBoostClassifier', 0.9598108747044918),\n",
       " ('LightGBM', 0.9763593380614657),\n",
       " ('xgboost', 0.9645390070921985)]"
      ]
     },
     "execution_count": 108,
     "metadata": {},
     "output_type": "execute_result"
    }
   ],
   "source": [
    "list(zip(data1,data2))"
   ]
  },
  {
   "cell_type": "code",
   "execution_count": 109,
   "id": "90d77c9f",
   "metadata": {},
   "outputs": [],
   "source": [
    "scores=pd.DataFrame(list(zip(data1,data2)),columns=['Algo','Score'])"
   ]
  },
  {
   "cell_type": "code",
   "execution_count": 110,
   "id": "b66fa596",
   "metadata": {},
   "outputs": [
    {
     "data": {
      "text/html": [
       "<div>\n",
       "<style scoped>\n",
       "    .dataframe tbody tr th:only-of-type {\n",
       "        vertical-align: middle;\n",
       "    }\n",
       "\n",
       "    .dataframe tbody tr th {\n",
       "        vertical-align: top;\n",
       "    }\n",
       "\n",
       "    .dataframe thead th {\n",
       "        text-align: right;\n",
       "    }\n",
       "</style>\n",
       "<table border=\"1\" class=\"dataframe\">\n",
       "  <thead>\n",
       "    <tr style=\"text-align: right;\">\n",
       "      <th></th>\n",
       "      <th>Algo</th>\n",
       "      <th>Score</th>\n",
       "    </tr>\n",
       "  </thead>\n",
       "  <tbody>\n",
       "    <tr>\n",
       "      <th>9</th>\n",
       "      <td>LightGBM</td>\n",
       "      <td>0.976359</td>\n",
       "    </tr>\n",
       "    <tr>\n",
       "      <th>6</th>\n",
       "      <td>MLP</td>\n",
       "      <td>0.966903</td>\n",
       "    </tr>\n",
       "    <tr>\n",
       "      <th>1</th>\n",
       "      <td>Random Forest</td>\n",
       "      <td>0.964539</td>\n",
       "    </tr>\n",
       "    <tr>\n",
       "      <th>10</th>\n",
       "      <td>xgboost</td>\n",
       "      <td>0.964539</td>\n",
       "    </tr>\n",
       "    <tr>\n",
       "      <th>7</th>\n",
       "      <td>GradientBoosting</td>\n",
       "      <td>0.959811</td>\n",
       "    </tr>\n",
       "    <tr>\n",
       "      <th>8</th>\n",
       "      <td>CatBoostClassifier</td>\n",
       "      <td>0.959811</td>\n",
       "    </tr>\n",
       "    <tr>\n",
       "      <th>2</th>\n",
       "      <td>KNN</td>\n",
       "      <td>0.947991</td>\n",
       "    </tr>\n",
       "    <tr>\n",
       "      <th>5</th>\n",
       "      <td>Decision tree</td>\n",
       "      <td>0.931442</td>\n",
       "    </tr>\n",
       "    <tr>\n",
       "      <th>3</th>\n",
       "      <td>support vector</td>\n",
       "      <td>0.929078</td>\n",
       "    </tr>\n",
       "    <tr>\n",
       "      <th>4</th>\n",
       "      <td>Linear SVC</td>\n",
       "      <td>0.921986</td>\n",
       "    </tr>\n",
       "    <tr>\n",
       "      <th>0</th>\n",
       "      <td>Logistic Regression</td>\n",
       "      <td>0.905437</td>\n",
       "    </tr>\n",
       "  </tbody>\n",
       "</table>\n",
       "</div>"
      ],
      "text/plain": [
       "                   Algo     Score\n",
       "9              LightGBM  0.976359\n",
       "6                   MLP  0.966903\n",
       "1         Random Forest  0.964539\n",
       "10              xgboost  0.964539\n",
       "7      GradientBoosting  0.959811\n",
       "8    CatBoostClassifier  0.959811\n",
       "2                   KNN  0.947991\n",
       "5         Decision tree  0.931442\n",
       "3        support vector  0.929078\n",
       "4            Linear SVC  0.921986\n",
       "0   Logistic Regression  0.905437"
      ]
     },
     "execution_count": 110,
     "metadata": {},
     "output_type": "execute_result"
    }
   ],
   "source": [
    "scores.nlargest(11,\"Score\")"
   ]
  }
 ],
 "metadata": {
  "kernelspec": {
   "display_name": "Python 3 (ipykernel)",
   "language": "python",
   "name": "python3"
  },
  "language_info": {
   "codemirror_mode": {
    "name": "ipython",
    "version": 3
   },
   "file_extension": ".py",
   "mimetype": "text/x-python",
   "name": "python",
   "nbconvert_exporter": "python",
   "pygments_lexer": "ipython3",
   "version": "3.9.7"
  }
 },
 "nbformat": 4,
 "nbformat_minor": 5
}
